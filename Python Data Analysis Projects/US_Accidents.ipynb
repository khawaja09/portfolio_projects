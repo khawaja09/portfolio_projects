{
 "cells": [
  {
   "cell_type": "code",
   "execution_count": 339,
   "id": "398f27cc",
   "metadata": {},
   "outputs": [],
   "source": [
    "import numpy as np\n",
    "import pandas as pd\n",
    "import seaborn as sns\n",
    "import os\n",
    "import math as m\n",
    "import matplotlib.pyplot as plt"
   ]
  },
  {
   "cell_type": "markdown",
   "id": "6993d931",
   "metadata": {},
   "source": [
    "# <h1>Data Preparation & Cleaning</h1>"
   ]
  },
  {
   "cell_type": "markdown",
   "id": "7d09f23b",
   "metadata": {},
   "source": [
    "### 1. load the file using pandas\n",
    "### 2. take overview of the columns and data\n",
    "### 3. fix any missing and wrong entries"
   ]
  },
  {
   "cell_type": "code",
   "execution_count": null,
   "id": "09a216ae",
   "metadata": {},
   "outputs": [],
   "source": [
    "# read the csv file\n",
    "\n",
    "df = pd.read_csv('./US_Accidents.csv')"
   ]
  },
  {
   "cell_type": "code",
   "execution_count": 3,
   "id": "6ab22ad8",
   "metadata": {},
   "outputs": [
    {
     "data": {
      "text/html": [
       "<div>\n",
       "<style scoped>\n",
       "    .dataframe tbody tr th:only-of-type {\n",
       "        vertical-align: middle;\n",
       "    }\n",
       "\n",
       "    .dataframe tbody tr th {\n",
       "        vertical-align: top;\n",
       "    }\n",
       "\n",
       "    .dataframe thead th {\n",
       "        text-align: right;\n",
       "    }\n",
       "</style>\n",
       "<table border=\"1\" class=\"dataframe\">\n",
       "  <thead>\n",
       "    <tr style=\"text-align: right;\">\n",
       "      <th></th>\n",
       "      <th>ID</th>\n",
       "      <th>Severity</th>\n",
       "      <th>Start_Time</th>\n",
       "      <th>End_Time</th>\n",
       "      <th>Start_Lat</th>\n",
       "      <th>Start_Lng</th>\n",
       "      <th>End_Lat</th>\n",
       "      <th>End_Lng</th>\n",
       "      <th>Distance(mi)</th>\n",
       "      <th>Description</th>\n",
       "      <th>...</th>\n",
       "      <th>Roundabout</th>\n",
       "      <th>Station</th>\n",
       "      <th>Stop</th>\n",
       "      <th>Traffic_Calming</th>\n",
       "      <th>Traffic_Signal</th>\n",
       "      <th>Turning_Loop</th>\n",
       "      <th>Sunrise_Sunset</th>\n",
       "      <th>Civil_Twilight</th>\n",
       "      <th>Nautical_Twilight</th>\n",
       "      <th>Astronomical_Twilight</th>\n",
       "    </tr>\n",
       "  </thead>\n",
       "  <tbody>\n",
       "    <tr>\n",
       "      <th>0</th>\n",
       "      <td>A-1</td>\n",
       "      <td>3</td>\n",
       "      <td>2016-02-08 00:37:08</td>\n",
       "      <td>2016-02-08 06:37:08</td>\n",
       "      <td>40.108910</td>\n",
       "      <td>-83.092860</td>\n",
       "      <td>40.112060</td>\n",
       "      <td>-83.031870</td>\n",
       "      <td>3.230</td>\n",
       "      <td>Between Sawmill Rd/Exit 20 and OH-315/Olentang...</td>\n",
       "      <td>...</td>\n",
       "      <td>False</td>\n",
       "      <td>False</td>\n",
       "      <td>False</td>\n",
       "      <td>False</td>\n",
       "      <td>False</td>\n",
       "      <td>False</td>\n",
       "      <td>Night</td>\n",
       "      <td>Night</td>\n",
       "      <td>Night</td>\n",
       "      <td>Night</td>\n",
       "    </tr>\n",
       "    <tr>\n",
       "      <th>1</th>\n",
       "      <td>A-2</td>\n",
       "      <td>2</td>\n",
       "      <td>2016-02-08 05:56:20</td>\n",
       "      <td>2016-02-08 11:56:20</td>\n",
       "      <td>39.865420</td>\n",
       "      <td>-84.062800</td>\n",
       "      <td>39.865010</td>\n",
       "      <td>-84.048730</td>\n",
       "      <td>0.747</td>\n",
       "      <td>At OH-4/OH-235/Exit 41 - Accident.</td>\n",
       "      <td>...</td>\n",
       "      <td>False</td>\n",
       "      <td>False</td>\n",
       "      <td>False</td>\n",
       "      <td>False</td>\n",
       "      <td>False</td>\n",
       "      <td>False</td>\n",
       "      <td>Night</td>\n",
       "      <td>Night</td>\n",
       "      <td>Night</td>\n",
       "      <td>Night</td>\n",
       "    </tr>\n",
       "    <tr>\n",
       "      <th>2</th>\n",
       "      <td>A-3</td>\n",
       "      <td>2</td>\n",
       "      <td>2016-02-08 06:15:39</td>\n",
       "      <td>2016-02-08 12:15:39</td>\n",
       "      <td>39.102660</td>\n",
       "      <td>-84.524680</td>\n",
       "      <td>39.102090</td>\n",
       "      <td>-84.523960</td>\n",
       "      <td>0.055</td>\n",
       "      <td>At I-71/US-50/Exit 1 - Accident.</td>\n",
       "      <td>...</td>\n",
       "      <td>False</td>\n",
       "      <td>False</td>\n",
       "      <td>False</td>\n",
       "      <td>False</td>\n",
       "      <td>False</td>\n",
       "      <td>False</td>\n",
       "      <td>Night</td>\n",
       "      <td>Night</td>\n",
       "      <td>Night</td>\n",
       "      <td>Day</td>\n",
       "    </tr>\n",
       "    <tr>\n",
       "      <th>3</th>\n",
       "      <td>A-4</td>\n",
       "      <td>2</td>\n",
       "      <td>2016-02-08 06:51:45</td>\n",
       "      <td>2016-02-08 12:51:45</td>\n",
       "      <td>41.062130</td>\n",
       "      <td>-81.537840</td>\n",
       "      <td>41.062170</td>\n",
       "      <td>-81.535470</td>\n",
       "      <td>0.123</td>\n",
       "      <td>At Dart Ave/Exit 21 - Accident.</td>\n",
       "      <td>...</td>\n",
       "      <td>False</td>\n",
       "      <td>False</td>\n",
       "      <td>False</td>\n",
       "      <td>False</td>\n",
       "      <td>False</td>\n",
       "      <td>False</td>\n",
       "      <td>Night</td>\n",
       "      <td>Night</td>\n",
       "      <td>Day</td>\n",
       "      <td>Day</td>\n",
       "    </tr>\n",
       "    <tr>\n",
       "      <th>4</th>\n",
       "      <td>A-5</td>\n",
       "      <td>3</td>\n",
       "      <td>2016-02-08 07:53:43</td>\n",
       "      <td>2016-02-08 13:53:43</td>\n",
       "      <td>39.172393</td>\n",
       "      <td>-84.492792</td>\n",
       "      <td>39.170476</td>\n",
       "      <td>-84.501798</td>\n",
       "      <td>0.500</td>\n",
       "      <td>At Mitchell Ave/Exit 6 - Accident.</td>\n",
       "      <td>...</td>\n",
       "      <td>False</td>\n",
       "      <td>False</td>\n",
       "      <td>False</td>\n",
       "      <td>False</td>\n",
       "      <td>False</td>\n",
       "      <td>False</td>\n",
       "      <td>Day</td>\n",
       "      <td>Day</td>\n",
       "      <td>Day</td>\n",
       "      <td>Day</td>\n",
       "    </tr>\n",
       "  </tbody>\n",
       "</table>\n",
       "<p>5 rows × 47 columns</p>\n",
       "</div>"
      ],
      "text/plain": [
       "    ID  Severity           Start_Time             End_Time  Start_Lat  \\\n",
       "0  A-1         3  2016-02-08 00:37:08  2016-02-08 06:37:08  40.108910   \n",
       "1  A-2         2  2016-02-08 05:56:20  2016-02-08 11:56:20  39.865420   \n",
       "2  A-3         2  2016-02-08 06:15:39  2016-02-08 12:15:39  39.102660   \n",
       "3  A-4         2  2016-02-08 06:51:45  2016-02-08 12:51:45  41.062130   \n",
       "4  A-5         3  2016-02-08 07:53:43  2016-02-08 13:53:43  39.172393   \n",
       "\n",
       "   Start_Lng    End_Lat    End_Lng  Distance(mi)  \\\n",
       "0 -83.092860  40.112060 -83.031870         3.230   \n",
       "1 -84.062800  39.865010 -84.048730         0.747   \n",
       "2 -84.524680  39.102090 -84.523960         0.055   \n",
       "3 -81.537840  41.062170 -81.535470         0.123   \n",
       "4 -84.492792  39.170476 -84.501798         0.500   \n",
       "\n",
       "                                         Description  ...  Roundabout Station  \\\n",
       "0  Between Sawmill Rd/Exit 20 and OH-315/Olentang...  ...       False   False   \n",
       "1                 At OH-4/OH-235/Exit 41 - Accident.  ...       False   False   \n",
       "2                   At I-71/US-50/Exit 1 - Accident.  ...       False   False   \n",
       "3                    At Dart Ave/Exit 21 - Accident.  ...       False   False   \n",
       "4                 At Mitchell Ave/Exit 6 - Accident.  ...       False   False   \n",
       "\n",
       "    Stop Traffic_Calming Traffic_Signal Turning_Loop Sunrise_Sunset  \\\n",
       "0  False           False          False        False          Night   \n",
       "1  False           False          False        False          Night   \n",
       "2  False           False          False        False          Night   \n",
       "3  False           False          False        False          Night   \n",
       "4  False           False          False        False            Day   \n",
       "\n",
       "  Civil_Twilight Nautical_Twilight Astronomical_Twilight  \n",
       "0          Night             Night                 Night  \n",
       "1          Night             Night                 Night  \n",
       "2          Night             Night                   Day  \n",
       "3          Night               Day                   Day  \n",
       "4            Day               Day                   Day  \n",
       "\n",
       "[5 rows x 47 columns]"
      ]
     },
     "execution_count": 3,
     "metadata": {},
     "output_type": "execute_result"
    }
   ],
   "source": [
    "# lets look at the head of the data\n",
    "\n",
    "df.head()"
   ]
  },
  {
   "cell_type": "code",
   "execution_count": 8,
   "id": "f6e25c60",
   "metadata": {},
   "outputs": [
    {
     "data": {
      "text/plain": [
       "Index(['ID', 'Severity', 'Start_Time', 'End_Time', 'Start_Lat', 'Start_Lng',\n",
       "       'End_Lat', 'End_Lng', 'Distance(mi)', 'Description', 'Number', 'Street',\n",
       "       'Side', 'City', 'County', 'State', 'Zipcode', 'Country', 'Timezone',\n",
       "       'Airport_Code', 'Weather_Timestamp', 'Temperature(F)', 'Wind_Chill(F)',\n",
       "       'Humidity(%)', 'Pressure(in)', 'Visibility(mi)', 'Wind_Direction',\n",
       "       'Wind_Speed(mph)', 'Precipitation(in)', 'Weather_Condition', 'Amenity',\n",
       "       'Bump', 'Crossing', 'Give_Way', 'Junction', 'No_Exit', 'Railway',\n",
       "       'Roundabout', 'Station', 'Stop', 'Traffic_Calming', 'Traffic_Signal',\n",
       "       'Turning_Loop', 'Sunrise_Sunset', 'Civil_Twilight', 'Nautical_Twilight',\n",
       "       'Astronomical_Twilight'],\n",
       "      dtype='object')"
      ]
     },
     "execution_count": 8,
     "metadata": {},
     "output_type": "execute_result"
    }
   ],
   "source": [
    "# dataframe columns\n",
    "\n",
    "df.columns"
   ]
  },
  {
   "cell_type": "code",
   "execution_count": 198,
   "id": "b4967673",
   "metadata": {},
   "outputs": [
    {
     "data": {
      "text/plain": [
       "ID                               object\n",
       "Severity                          int64\n",
       "Start_Time               datetime64[ns]\n",
       "End_Time                         object\n",
       "Start_Lat                       float64\n",
       "Start_Lng                       float64\n",
       "End_Lat                         float64\n",
       "End_Lng                         float64\n",
       "Distance(mi)                    float64\n",
       "Description                      object\n",
       "Number                          float64\n",
       "Street                           object\n",
       "Side                             object\n",
       "City                             object\n",
       "County                           object\n",
       "State                            object\n",
       "Zipcode                          object\n",
       "Country                          object\n",
       "Timezone                         object\n",
       "Airport_Code                     object\n",
       "Weather_Timestamp                object\n",
       "Temperature(F)                  float64\n",
       "Wind_Chill(F)                   float64\n",
       "Humidity(%)                     float64\n",
       "Pressure(in)                    float64\n",
       "Visibility(mi)                  float64\n",
       "Wind_Direction                   object\n",
       "Wind_Speed(mph)                 float64\n",
       "Precipitation(in)               float64\n",
       "Weather_Condition                object\n",
       "Amenity                            bool\n",
       "Bump                               bool\n",
       "Crossing                           bool\n",
       "Give_Way                           bool\n",
       "Junction                           bool\n",
       "No_Exit                            bool\n",
       "Railway                            bool\n",
       "Roundabout                         bool\n",
       "Station                            bool\n",
       "Stop                               bool\n",
       "Traffic_Calming                    bool\n",
       "Traffic_Signal                     bool\n",
       "Turning_Loop                       bool\n",
       "Sunrise_Sunset                   object\n",
       "Civil_Twilight                   object\n",
       "Nautical_Twilight                object\n",
       "Astronomical_Twilight            object\n",
       "dtype: object"
      ]
     },
     "execution_count": 198,
     "metadata": {},
     "output_type": "execute_result"
    }
   ],
   "source": [
    "# look at the data types of the columns\n",
    "df.dtypes"
   ]
  },
  {
   "cell_type": "code",
   "execution_count": 10,
   "id": "ed6663b0",
   "metadata": {},
   "outputs": [
    {
     "name": "stdout",
     "output_type": "stream",
     "text": [
      "<class 'pandas.core.frame.DataFrame'>\n",
      "RangeIndex: 2845342 entries, 0 to 2845341\n",
      "Data columns (total 47 columns):\n",
      " #   Column                 Dtype  \n",
      "---  ------                 -----  \n",
      " 0   ID                     object \n",
      " 1   Severity               int64  \n",
      " 2   Start_Time             object \n",
      " 3   End_Time               object \n",
      " 4   Start_Lat              float64\n",
      " 5   Start_Lng              float64\n",
      " 6   End_Lat                float64\n",
      " 7   End_Lng                float64\n",
      " 8   Distance(mi)           float64\n",
      " 9   Description            object \n",
      " 10  Number                 float64\n",
      " 11  Street                 object \n",
      " 12  Side                   object \n",
      " 13  City                   object \n",
      " 14  County                 object \n",
      " 15  State                  object \n",
      " 16  Zipcode                object \n",
      " 17  Country                object \n",
      " 18  Timezone               object \n",
      " 19  Airport_Code           object \n",
      " 20  Weather_Timestamp      object \n",
      " 21  Temperature(F)         float64\n",
      " 22  Wind_Chill(F)          float64\n",
      " 23  Humidity(%)            float64\n",
      " 24  Pressure(in)           float64\n",
      " 25  Visibility(mi)         float64\n",
      " 26  Wind_Direction         object \n",
      " 27  Wind_Speed(mph)        float64\n",
      " 28  Precipitation(in)      float64\n",
      " 29  Weather_Condition      object \n",
      " 30  Amenity                bool   \n",
      " 31  Bump                   bool   \n",
      " 32  Crossing               bool   \n",
      " 33  Give_Way               bool   \n",
      " 34  Junction               bool   \n",
      " 35  No_Exit                bool   \n",
      " 36  Railway                bool   \n",
      " 37  Roundabout             bool   \n",
      " 38  Station                bool   \n",
      " 39  Stop                   bool   \n",
      " 40  Traffic_Calming        bool   \n",
      " 41  Traffic_Signal         bool   \n",
      " 42  Turning_Loop           bool   \n",
      " 43  Sunrise_Sunset         object \n",
      " 44  Civil_Twilight         object \n",
      " 45  Nautical_Twilight      object \n",
      " 46  Astronomical_Twilight  object \n",
      "dtypes: bool(13), float64(13), int64(1), object(20)\n",
      "memory usage: 773.4+ MB\n"
     ]
    }
   ],
   "source": [
    "# detailed info of the dataset\n",
    "\n",
    "df.info()"
   ]
  },
  {
   "cell_type": "code",
   "execution_count": 7,
   "id": "215ca285",
   "metadata": {
    "scrolled": true
   },
   "outputs": [
    {
     "data": {
      "text/html": [
       "<div>\n",
       "<style scoped>\n",
       "    .dataframe tbody tr th:only-of-type {\n",
       "        vertical-align: middle;\n",
       "    }\n",
       "\n",
       "    .dataframe tbody tr th {\n",
       "        vertical-align: top;\n",
       "    }\n",
       "\n",
       "    .dataframe thead th {\n",
       "        text-align: right;\n",
       "    }\n",
       "</style>\n",
       "<table border=\"1\" class=\"dataframe\">\n",
       "  <thead>\n",
       "    <tr style=\"text-align: right;\">\n",
       "      <th></th>\n",
       "      <th>Severity</th>\n",
       "      <th>Start_Lat</th>\n",
       "      <th>Start_Lng</th>\n",
       "      <th>End_Lat</th>\n",
       "      <th>End_Lng</th>\n",
       "      <th>Distance(mi)</th>\n",
       "      <th>Number</th>\n",
       "      <th>Temperature(F)</th>\n",
       "      <th>Wind_Chill(F)</th>\n",
       "      <th>Humidity(%)</th>\n",
       "      <th>Pressure(in)</th>\n",
       "      <th>Visibility(mi)</th>\n",
       "      <th>Wind_Speed(mph)</th>\n",
       "      <th>Precipitation(in)</th>\n",
       "    </tr>\n",
       "  </thead>\n",
       "  <tbody>\n",
       "    <tr>\n",
       "      <th>count</th>\n",
       "      <td>2.845342e+06</td>\n",
       "      <td>2.845342e+06</td>\n",
       "      <td>2.845342e+06</td>\n",
       "      <td>2.845342e+06</td>\n",
       "      <td>2.845342e+06</td>\n",
       "      <td>2.845342e+06</td>\n",
       "      <td>1.101431e+06</td>\n",
       "      <td>2.776068e+06</td>\n",
       "      <td>2.375699e+06</td>\n",
       "      <td>2.772250e+06</td>\n",
       "      <td>2.786142e+06</td>\n",
       "      <td>2.774796e+06</td>\n",
       "      <td>2.687398e+06</td>\n",
       "      <td>2.295884e+06</td>\n",
       "    </tr>\n",
       "    <tr>\n",
       "      <th>mean</th>\n",
       "      <td>2.137572e+00</td>\n",
       "      <td>3.624520e+01</td>\n",
       "      <td>-9.711463e+01</td>\n",
       "      <td>3.624532e+01</td>\n",
       "      <td>-9.711439e+01</td>\n",
       "      <td>7.026779e-01</td>\n",
       "      <td>8.089408e+03</td>\n",
       "      <td>6.179356e+01</td>\n",
       "      <td>5.965823e+01</td>\n",
       "      <td>6.436545e+01</td>\n",
       "      <td>2.947234e+01</td>\n",
       "      <td>9.099391e+00</td>\n",
       "      <td>7.395044e+00</td>\n",
       "      <td>7.016940e-03</td>\n",
       "    </tr>\n",
       "    <tr>\n",
       "      <th>std</th>\n",
       "      <td>4.787216e-01</td>\n",
       "      <td>5.363797e+00</td>\n",
       "      <td>1.831782e+01</td>\n",
       "      <td>5.363873e+00</td>\n",
       "      <td>1.831763e+01</td>\n",
       "      <td>1.560361e+00</td>\n",
       "      <td>1.836009e+04</td>\n",
       "      <td>1.862263e+01</td>\n",
       "      <td>2.116097e+01</td>\n",
       "      <td>2.287457e+01</td>\n",
       "      <td>1.045286e+00</td>\n",
       "      <td>2.717546e+00</td>\n",
       "      <td>5.527454e+00</td>\n",
       "      <td>9.348831e-02</td>\n",
       "    </tr>\n",
       "    <tr>\n",
       "      <th>min</th>\n",
       "      <td>1.000000e+00</td>\n",
       "      <td>2.456603e+01</td>\n",
       "      <td>-1.245481e+02</td>\n",
       "      <td>2.456601e+01</td>\n",
       "      <td>-1.245457e+02</td>\n",
       "      <td>0.000000e+00</td>\n",
       "      <td>0.000000e+00</td>\n",
       "      <td>-8.900000e+01</td>\n",
       "      <td>-8.900000e+01</td>\n",
       "      <td>1.000000e+00</td>\n",
       "      <td>0.000000e+00</td>\n",
       "      <td>0.000000e+00</td>\n",
       "      <td>0.000000e+00</td>\n",
       "      <td>0.000000e+00</td>\n",
       "    </tr>\n",
       "    <tr>\n",
       "      <th>25%</th>\n",
       "      <td>2.000000e+00</td>\n",
       "      <td>3.344517e+01</td>\n",
       "      <td>-1.180331e+02</td>\n",
       "      <td>3.344628e+01</td>\n",
       "      <td>-1.180333e+02</td>\n",
       "      <td>5.200000e-02</td>\n",
       "      <td>1.270000e+03</td>\n",
       "      <td>5.000000e+01</td>\n",
       "      <td>4.600000e+01</td>\n",
       "      <td>4.800000e+01</td>\n",
       "      <td>2.931000e+01</td>\n",
       "      <td>1.000000e+01</td>\n",
       "      <td>3.500000e+00</td>\n",
       "      <td>0.000000e+00</td>\n",
       "    </tr>\n",
       "    <tr>\n",
       "      <th>50%</th>\n",
       "      <td>2.000000e+00</td>\n",
       "      <td>3.609861e+01</td>\n",
       "      <td>-9.241808e+01</td>\n",
       "      <td>3.609799e+01</td>\n",
       "      <td>-9.241772e+01</td>\n",
       "      <td>2.440000e-01</td>\n",
       "      <td>4.007000e+03</td>\n",
       "      <td>6.400000e+01</td>\n",
       "      <td>6.300000e+01</td>\n",
       "      <td>6.700000e+01</td>\n",
       "      <td>2.982000e+01</td>\n",
       "      <td>1.000000e+01</td>\n",
       "      <td>7.000000e+00</td>\n",
       "      <td>0.000000e+00</td>\n",
       "    </tr>\n",
       "    <tr>\n",
       "      <th>75%</th>\n",
       "      <td>2.000000e+00</td>\n",
       "      <td>4.016024e+01</td>\n",
       "      <td>-8.037243e+01</td>\n",
       "      <td>4.016105e+01</td>\n",
       "      <td>-8.037338e+01</td>\n",
       "      <td>7.640000e-01</td>\n",
       "      <td>9.567000e+03</td>\n",
       "      <td>7.600000e+01</td>\n",
       "      <td>7.600000e+01</td>\n",
       "      <td>8.300000e+01</td>\n",
       "      <td>3.001000e+01</td>\n",
       "      <td>1.000000e+01</td>\n",
       "      <td>1.000000e+01</td>\n",
       "      <td>0.000000e+00</td>\n",
       "    </tr>\n",
       "    <tr>\n",
       "      <th>max</th>\n",
       "      <td>4.000000e+00</td>\n",
       "      <td>4.900058e+01</td>\n",
       "      <td>-6.711317e+01</td>\n",
       "      <td>4.907500e+01</td>\n",
       "      <td>-6.710924e+01</td>\n",
       "      <td>1.551860e+02</td>\n",
       "      <td>9.999997e+06</td>\n",
       "      <td>1.960000e+02</td>\n",
       "      <td>1.960000e+02</td>\n",
       "      <td>1.000000e+02</td>\n",
       "      <td>5.890000e+01</td>\n",
       "      <td>1.400000e+02</td>\n",
       "      <td>1.087000e+03</td>\n",
       "      <td>2.400000e+01</td>\n",
       "    </tr>\n",
       "  </tbody>\n",
       "</table>\n",
       "</div>"
      ],
      "text/plain": [
       "           Severity     Start_Lat     Start_Lng       End_Lat       End_Lng  \\\n",
       "count  2.845342e+06  2.845342e+06  2.845342e+06  2.845342e+06  2.845342e+06   \n",
       "mean   2.137572e+00  3.624520e+01 -9.711463e+01  3.624532e+01 -9.711439e+01   \n",
       "std    4.787216e-01  5.363797e+00  1.831782e+01  5.363873e+00  1.831763e+01   \n",
       "min    1.000000e+00  2.456603e+01 -1.245481e+02  2.456601e+01 -1.245457e+02   \n",
       "25%    2.000000e+00  3.344517e+01 -1.180331e+02  3.344628e+01 -1.180333e+02   \n",
       "50%    2.000000e+00  3.609861e+01 -9.241808e+01  3.609799e+01 -9.241772e+01   \n",
       "75%    2.000000e+00  4.016024e+01 -8.037243e+01  4.016105e+01 -8.037338e+01   \n",
       "max    4.000000e+00  4.900058e+01 -6.711317e+01  4.907500e+01 -6.710924e+01   \n",
       "\n",
       "       Distance(mi)        Number  Temperature(F)  Wind_Chill(F)  \\\n",
       "count  2.845342e+06  1.101431e+06    2.776068e+06   2.375699e+06   \n",
       "mean   7.026779e-01  8.089408e+03    6.179356e+01   5.965823e+01   \n",
       "std    1.560361e+00  1.836009e+04    1.862263e+01   2.116097e+01   \n",
       "min    0.000000e+00  0.000000e+00   -8.900000e+01  -8.900000e+01   \n",
       "25%    5.200000e-02  1.270000e+03    5.000000e+01   4.600000e+01   \n",
       "50%    2.440000e-01  4.007000e+03    6.400000e+01   6.300000e+01   \n",
       "75%    7.640000e-01  9.567000e+03    7.600000e+01   7.600000e+01   \n",
       "max    1.551860e+02  9.999997e+06    1.960000e+02   1.960000e+02   \n",
       "\n",
       "        Humidity(%)  Pressure(in)  Visibility(mi)  Wind_Speed(mph)  \\\n",
       "count  2.772250e+06  2.786142e+06    2.774796e+06     2.687398e+06   \n",
       "mean   6.436545e+01  2.947234e+01    9.099391e+00     7.395044e+00   \n",
       "std    2.287457e+01  1.045286e+00    2.717546e+00     5.527454e+00   \n",
       "min    1.000000e+00  0.000000e+00    0.000000e+00     0.000000e+00   \n",
       "25%    4.800000e+01  2.931000e+01    1.000000e+01     3.500000e+00   \n",
       "50%    6.700000e+01  2.982000e+01    1.000000e+01     7.000000e+00   \n",
       "75%    8.300000e+01  3.001000e+01    1.000000e+01     1.000000e+01   \n",
       "max    1.000000e+02  5.890000e+01    1.400000e+02     1.087000e+03   \n",
       "\n",
       "       Precipitation(in)  \n",
       "count       2.295884e+06  \n",
       "mean        7.016940e-03  \n",
       "std         9.348831e-02  \n",
       "min         0.000000e+00  \n",
       "25%         0.000000e+00  \n",
       "50%         0.000000e+00  \n",
       "75%         0.000000e+00  \n",
       "max         2.400000e+01  "
      ]
     },
     "execution_count": 7,
     "metadata": {},
     "output_type": "execute_result"
    }
   ],
   "source": [
    "# view the statistics of the data\n",
    "\n",
    "df.describe()"
   ]
  },
  {
   "cell_type": "code",
   "execution_count": 17,
   "id": "7f84ccd5",
   "metadata": {},
   "outputs": [
    {
     "data": {
      "text/plain": [
       "14"
      ]
     },
     "execution_count": 17,
     "metadata": {},
     "output_type": "execute_result"
    }
   ],
   "source": [
    "# identify no of numeric columns\n",
    "\n",
    "numerics = ['int16', 'int32', 'int64', 'float16', 'float32', 'float64']\n",
    "newdf = df.select_dtypes(include=numerics)\n",
    "len(newdf.columns)"
   ]
  },
  {
   "cell_type": "code",
   "execution_count": 37,
   "id": "394c6615",
   "metadata": {},
   "outputs": [
    {
     "data": {
      "text/plain": [
       "0"
      ]
     },
     "execution_count": 37,
     "metadata": {},
     "output_type": "execute_result"
    }
   ],
   "source": [
    "df['End_Lat'].isna().sum()"
   ]
  },
  {
   "cell_type": "code",
   "execution_count": 38,
   "id": "96873de9",
   "metadata": {},
   "outputs": [],
   "source": [
    "# count missing values per column/ percentage of missing values\n",
    "\n",
    "missing_percentages = df.isna().sum().sort_values(ascending=False)/len(df)"
   ]
  },
  {
   "cell_type": "code",
   "execution_count": 347,
   "id": "9cc6fc23",
   "metadata": {
    "scrolled": true
   },
   "outputs": [
    {
     "data": {
      "text/plain": [
       "<AxesSubplot:>"
      ]
     },
     "execution_count": 347,
     "metadata": {},
     "output_type": "execute_result"
    },
    {
     "data": {
      "image/png": "[encoded data removed]",
      "text/plain": [
       "<Figure size 720x360 with 1 Axes>"
      ]
     },
     "metadata": {
      "needs_background": "light"
     },
     "output_type": "display_data"
    }
   ],
   "source": [
    "# plot bar chart of missing percentages greater than zeo\n",
    "\n",
    "missing_percentages[missing_percentages>0].plot(kind='bar', color='orange', figsize=(10,5))"
   ]
  },
  {
   "cell_type": "code",
   "execution_count": 56,
   "id": "7e77af1f",
   "metadata": {
    "scrolled": true
   },
   "outputs": [
    {
     "name": "stderr",
     "output_type": "stream",
     "text": [
      "C:\\Users\\HHC\\AppData\\Local\\Temp/ipykernel_10704/4278387366.py:3: FutureWarning: In a future version of pandas all arguments of DataFrame.drop except for the argument 'labels' will be keyword-only\n",
      "  df2 = df.drop('Number',1)\n"
     ]
    }
   ],
   "source": [
    "# drop column which has more than 50 percent data is missing\n",
    "\n",
    "df2 = df.drop('Number',1)"
   ]
  },
  {
   "cell_type": "markdown",
   "id": "f3952514",
   "metadata": {},
   "source": [
    "<h1><i>Exploratory Analysis and Visualization</i></h1>"
   ]
  },
  {
   "cell_type": "markdown",
   "id": "d1f030bc",
   "metadata": {},
   "source": [
    "## Analysize these 5 columns\n",
    "\n",
    "### 1. City\n",
    "### 2. Start time\n",
    "### 3. start lat, start lng\n",
    "### 4. Temperature\n",
    "### 5. Weather Condition"
   ]
  },
  {
   "cell_type": "code",
   "execution_count": 60,
   "id": "c0bfd2e2",
   "metadata": {},
   "outputs": [
    {
     "data": {
      "text/plain": [
       "Index(['ID', 'Severity', 'Start_Time', 'End_Time', 'Start_Lat', 'Start_Lng',\n",
       "       'End_Lat', 'End_Lng', 'Distance(mi)', 'Description', 'Street', 'Side',\n",
       "       'City', 'County', 'State', 'Zipcode', 'Country', 'Timezone',\n",
       "       'Airport_Code', 'Weather_Timestamp', 'Temperature(F)', 'Wind_Chill(F)',\n",
       "       'Humidity(%)', 'Pressure(in)', 'Visibility(mi)', 'Wind_Direction',\n",
       "       'Wind_Speed(mph)', 'Precipitation(in)', 'Weather_Condition', 'Amenity',\n",
       "       'Bump', 'Crossing', 'Give_Way', 'Junction', 'No_Exit', 'Railway',\n",
       "       'Roundabout', 'Station', 'Stop', 'Traffic_Calming', 'Traffic_Signal',\n",
       "       'Turning_Loop', 'Sunrise_Sunset', 'Civil_Twilight', 'Nautical_Twilight',\n",
       "       'Astronomical_Twilight'],\n",
       "      dtype='object')"
      ]
     },
     "execution_count": 60,
     "metadata": {},
     "output_type": "execute_result"
    }
   ],
   "source": [
    "df2.columns"
   ]
  },
  {
   "cell_type": "markdown",
   "id": "997340cb",
   "metadata": {},
   "source": [
    "## City"
   ]
  },
  {
   "cell_type": "code",
   "execution_count": 69,
   "id": "b1e06aba",
   "metadata": {},
   "outputs": [
    {
     "data": {
      "text/html": [
       "<div>\n",
       "<style scoped>\n",
       "    .dataframe tbody tr th:only-of-type {\n",
       "        vertical-align: middle;\n",
       "    }\n",
       "\n",
       "    .dataframe tbody tr th {\n",
       "        vertical-align: top;\n",
       "    }\n",
       "\n",
       "    .dataframe thead th {\n",
       "        text-align: right;\n",
       "    }\n",
       "</style>\n",
       "<table border=\"1\" class=\"dataframe\">\n",
       "  <thead>\n",
       "    <tr style=\"text-align: right;\">\n",
       "      <th></th>\n",
       "      <th>City</th>\n",
       "      <th>Start_Time</th>\n",
       "      <th>Start_Lat</th>\n",
       "      <th>Start_Lng</th>\n",
       "      <th>Temperature(F)</th>\n",
       "      <th>Weather_Condition</th>\n",
       "    </tr>\n",
       "  </thead>\n",
       "  <tbody>\n",
       "    <tr>\n",
       "      <th>0</th>\n",
       "      <td>Dublin</td>\n",
       "      <td>2016-02-08 00:37:08</td>\n",
       "      <td>40.108910</td>\n",
       "      <td>-83.092860</td>\n",
       "      <td>42.1</td>\n",
       "      <td>Light Rain</td>\n",
       "    </tr>\n",
       "    <tr>\n",
       "      <th>1</th>\n",
       "      <td>Dayton</td>\n",
       "      <td>2016-02-08 05:56:20</td>\n",
       "      <td>39.865420</td>\n",
       "      <td>-84.062800</td>\n",
       "      <td>36.9</td>\n",
       "      <td>Light Rain</td>\n",
       "    </tr>\n",
       "    <tr>\n",
       "      <th>2</th>\n",
       "      <td>Cincinnati</td>\n",
       "      <td>2016-02-08 06:15:39</td>\n",
       "      <td>39.102660</td>\n",
       "      <td>-84.524680</td>\n",
       "      <td>36.0</td>\n",
       "      <td>Overcast</td>\n",
       "    </tr>\n",
       "    <tr>\n",
       "      <th>3</th>\n",
       "      <td>Akron</td>\n",
       "      <td>2016-02-08 06:51:45</td>\n",
       "      <td>41.062130</td>\n",
       "      <td>-81.537840</td>\n",
       "      <td>39.0</td>\n",
       "      <td>Overcast</td>\n",
       "    </tr>\n",
       "    <tr>\n",
       "      <th>4</th>\n",
       "      <td>Cincinnati</td>\n",
       "      <td>2016-02-08 07:53:43</td>\n",
       "      <td>39.172393</td>\n",
       "      <td>-84.492792</td>\n",
       "      <td>37.0</td>\n",
       "      <td>Light Rain</td>\n",
       "    </tr>\n",
       "    <tr>\n",
       "      <th>...</th>\n",
       "      <td>...</td>\n",
       "      <td>...</td>\n",
       "      <td>...</td>\n",
       "      <td>...</td>\n",
       "      <td>...</td>\n",
       "      <td>...</td>\n",
       "    </tr>\n",
       "    <tr>\n",
       "      <th>2845337</th>\n",
       "      <td>Riverside</td>\n",
       "      <td>2019-08-23 18:03:25</td>\n",
       "      <td>34.002480</td>\n",
       "      <td>-117.379360</td>\n",
       "      <td>86.0</td>\n",
       "      <td>Fair</td>\n",
       "    </tr>\n",
       "    <tr>\n",
       "      <th>2845338</th>\n",
       "      <td>San Diego</td>\n",
       "      <td>2019-08-23 19:11:30</td>\n",
       "      <td>32.766960</td>\n",
       "      <td>-117.148060</td>\n",
       "      <td>70.0</td>\n",
       "      <td>Fair</td>\n",
       "    </tr>\n",
       "    <tr>\n",
       "      <th>2845339</th>\n",
       "      <td>Orange</td>\n",
       "      <td>2019-08-23 19:00:21</td>\n",
       "      <td>33.775450</td>\n",
       "      <td>-117.847790</td>\n",
       "      <td>73.0</td>\n",
       "      <td>Partly Cloudy</td>\n",
       "    </tr>\n",
       "    <tr>\n",
       "      <th>2845340</th>\n",
       "      <td>Culver City</td>\n",
       "      <td>2019-08-23 19:00:21</td>\n",
       "      <td>33.992460</td>\n",
       "      <td>-118.403020</td>\n",
       "      <td>71.0</td>\n",
       "      <td>Fair</td>\n",
       "    </tr>\n",
       "    <tr>\n",
       "      <th>2845341</th>\n",
       "      <td>Highland</td>\n",
       "      <td>2019-08-23 18:52:06</td>\n",
       "      <td>34.133930</td>\n",
       "      <td>-117.230920</td>\n",
       "      <td>79.0</td>\n",
       "      <td>Fair</td>\n",
       "    </tr>\n",
       "  </tbody>\n",
       "</table>\n",
       "<p>2845342 rows × 6 columns</p>\n",
       "</div>"
      ],
      "text/plain": [
       "                City           Start_Time  Start_Lat   Start_Lng  \\\n",
       "0             Dublin  2016-02-08 00:37:08  40.108910  -83.092860   \n",
       "1             Dayton  2016-02-08 05:56:20  39.865420  -84.062800   \n",
       "2         Cincinnati  2016-02-08 06:15:39  39.102660  -84.524680   \n",
       "3              Akron  2016-02-08 06:51:45  41.062130  -81.537840   \n",
       "4         Cincinnati  2016-02-08 07:53:43  39.172393  -84.492792   \n",
       "...              ...                  ...        ...         ...   \n",
       "2845337    Riverside  2019-08-23 18:03:25  34.002480 -117.379360   \n",
       "2845338    San Diego  2019-08-23 19:11:30  32.766960 -117.148060   \n",
       "2845339       Orange  2019-08-23 19:00:21  33.775450 -117.847790   \n",
       "2845340  Culver City  2019-08-23 19:00:21  33.992460 -118.403020   \n",
       "2845341     Highland  2019-08-23 18:52:06  34.133930 -117.230920   \n",
       "\n",
       "         Temperature(F) Weather_Condition  \n",
       "0                  42.1        Light Rain  \n",
       "1                  36.9        Light Rain  \n",
       "2                  36.0          Overcast  \n",
       "3                  39.0          Overcast  \n",
       "4                  37.0        Light Rain  \n",
       "...                 ...               ...  \n",
       "2845337            86.0              Fair  \n",
       "2845338            70.0              Fair  \n",
       "2845339            73.0     Partly Cloudy  \n",
       "2845340            71.0              Fair  \n",
       "2845341            79.0              Fair  \n",
       "\n",
       "[2845342 rows x 6 columns]"
      ]
     },
     "execution_count": 69,
     "metadata": {},
     "output_type": "execute_result"
    }
   ],
   "source": [
    "df2[['City', 'Start_Time','Start_Lat','Start_Lng','Temperature(F)','Weather_Condition']]"
   ]
  },
  {
   "cell_type": "code",
   "execution_count": 83,
   "id": "25e2f2af",
   "metadata": {},
   "outputs": [
    {
     "data": {
      "text/plain": [
       "array(['Dublin', 'Dayton', 'Cincinnati', ..., 'Clarksdale', 'Bridgeboro',\n",
       "       'American Fork-Pleasant Grove'], dtype=object)"
      ]
     },
     "execution_count": 83,
     "metadata": {},
     "output_type": "execute_result"
    }
   ],
   "source": [
    "# unique cities\n",
    "\n",
    "df2.City.unique()"
   ]
  },
  {
   "cell_type": "code",
   "execution_count": 90,
   "id": "94a36ae1",
   "metadata": {
    "scrolled": true
   },
   "outputs": [
    {
     "data": {
      "text/plain": [
       "Miami          106966\n",
       "Los Angeles     68956\n",
       "Orlando         54691\n",
       "Dallas          41979\n",
       "Houston         39448\n",
       "Name: City, dtype: int64"
      ]
     },
     "execution_count": 90,
     "metadata": {},
     "output_type": "execute_result"
    }
   ],
   "source": [
    "# top 5 cities with most number of accidents\n",
    "\n",
    "df2['City'].value_counts()[:5]"
   ]
  },
  {
   "cell_type": "code",
   "execution_count": 89,
   "id": "eec28903",
   "metadata": {},
   "outputs": [
    {
     "data": {
      "text/html": [
       "<div>\n",
       "<style scoped>\n",
       "    .dataframe tbody tr th:only-of-type {\n",
       "        vertical-align: middle;\n",
       "    }\n",
       "\n",
       "    .dataframe tbody tr th {\n",
       "        vertical-align: top;\n",
       "    }\n",
       "\n",
       "    .dataframe thead th {\n",
       "        text-align: right;\n",
       "    }\n",
       "</style>\n",
       "<table border=\"1\" class=\"dataframe\">\n",
       "  <thead>\n",
       "    <tr style=\"text-align: right;\">\n",
       "      <th></th>\n",
       "      <th>City</th>\n",
       "      <th>Description</th>\n",
       "    </tr>\n",
       "  </thead>\n",
       "  <tbody>\n",
       "    <tr>\n",
       "      <th>31580</th>\n",
       "      <td>New York</td>\n",
       "      <td>Between Amsterdam Ave/Harlem River Dr and Huds...</td>\n",
       "    </tr>\n",
       "    <tr>\n",
       "      <th>31625</th>\n",
       "      <td>New York</td>\n",
       "      <td>At 79th St - Accident.</td>\n",
       "    </tr>\n",
       "    <tr>\n",
       "      <th>31710</th>\n",
       "      <td>New York</td>\n",
       "      <td>Between 65th St/66th St and 34th St - Accident.</td>\n",
       "    </tr>\n",
       "    <tr>\n",
       "      <th>31901</th>\n",
       "      <td>New York</td>\n",
       "      <td>At 42nd St/Exit 9 - Accident.</td>\n",
       "    </tr>\n",
       "    <tr>\n",
       "      <th>32073</th>\n",
       "      <td>New York</td>\n",
       "      <td>Between Centre St and Cadman Plaza - Accident.</td>\n",
       "    </tr>\n",
       "    <tr>\n",
       "      <th>...</th>\n",
       "      <td>...</td>\n",
       "      <td>...</td>\n",
       "    </tr>\n",
       "    <tr>\n",
       "      <th>2843385</th>\n",
       "      <td>New York</td>\n",
       "      <td>At I-495/Midtown Tunnel/Exit 8 - Accident. Lan...</td>\n",
       "    </tr>\n",
       "    <tr>\n",
       "      <th>2843916</th>\n",
       "      <td>New York</td>\n",
       "      <td>Between RT-9A/Henry Hudson Pky and Hudson Ter/...</td>\n",
       "    </tr>\n",
       "    <tr>\n",
       "      <th>2844444</th>\n",
       "      <td>New York</td>\n",
       "      <td>At Beginning of Bridge - Accident. Left lane b...</td>\n",
       "    </tr>\n",
       "    <tr>\n",
       "      <th>2844464</th>\n",
       "      <td>New York</td>\n",
       "      <td>At 49th St/Exit 10 - Accident. Left lane blocked.</td>\n",
       "    </tr>\n",
       "    <tr>\n",
       "      <th>2844953</th>\n",
       "      <td>New York</td>\n",
       "      <td>Between RT-9A/Henry Hudson Pky and Hudson Ter/...</td>\n",
       "    </tr>\n",
       "  </tbody>\n",
       "</table>\n",
       "<p>7068 rows × 2 columns</p>\n",
       "</div>"
      ],
      "text/plain": [
       "             City                                        Description\n",
       "31580    New York  Between Amsterdam Ave/Harlem River Dr and Huds...\n",
       "31625    New York                             At 79th St - Accident.\n",
       "31710    New York    Between 65th St/66th St and 34th St - Accident.\n",
       "31901    New York                      At 42nd St/Exit 9 - Accident.\n",
       "32073    New York     Between Centre St and Cadman Plaza - Accident.\n",
       "...           ...                                                ...\n",
       "2843385  New York  At I-495/Midtown Tunnel/Exit 8 - Accident. Lan...\n",
       "2843916  New York  Between RT-9A/Henry Hudson Pky and Hudson Ter/...\n",
       "2844444  New York  At Beginning of Bridge - Accident. Left lane b...\n",
       "2844464  New York  At 49th St/Exit 10 - Accident. Left lane blocked.\n",
       "2844953  New York  Between RT-9A/Henry Hudson Pky and Hudson Ter/...\n",
       "\n",
       "[7068 rows x 2 columns]"
      ]
     },
     "execution_count": 89,
     "metadata": {},
     "output_type": "execute_result"
    }
   ],
   "source": [
    "df2[['City','Description']][df2.City == 'New York']"
   ]
  },
  {
   "cell_type": "code",
   "execution_count": 93,
   "id": "e5eb4ded",
   "metadata": {},
   "outputs": [
    {
     "data": {
      "text/plain": [
       "<AxesSubplot:>"
      ]
     },
     "execution_count": 93,
     "metadata": {},
     "output_type": "execute_result"
    },
    {
     "data": {
      "image/png": "[encoded data removed]",
      "text/plain": [
       "<Figure size 432x288 with 1 Axes>"
      ]
     },
     "metadata": {
      "needs_background": "light"
     },
     "output_type": "display_data"
    }
   ],
   "source": [
    "# bar chart of 10 ten cities which has recorded most no of accidents\n",
    "\n",
    "df2['City'].value_counts()[:10].plot(kind='bar',color='g')"
   ]
  },
  {
   "cell_type": "code",
   "execution_count": 104,
   "id": "bf07526e",
   "metadata": {},
   "outputs": [
    {
     "name": "stderr",
     "output_type": "stream",
     "text": [
      "c:\\users\\hhc\\appdata\\local\\programs\\python\\python39\\lib\\site-packages\\seaborn\\distributions.py:2619: FutureWarning: `distplot` is a deprecated function and will be removed in a future version. Please adapt your code to use either `displot` (a figure-level function with similar flexibility) or `histplot` (an axes-level function for histograms).\n",
      "  warnings.warn(msg, FutureWarning)\n"
     ]
    },
    {
     "data": {
      "text/plain": [
       "<AxesSubplot:xlabel='City', ylabel='Density'>"
      ]
     },
     "execution_count": 104,
     "metadata": {},
     "output_type": "execute_result"
    },
    {
     "data": {
      "image/png": "[encoded data removed]",
      "text/plain": [
       "<Figure size 432x288 with 1 Axes>"
      ]
     },
     "metadata": {
      "needs_background": "light"
     },
     "output_type": "display_data"
    }
   ],
   "source": [
    "# distribution of accidents recordred in cities in seaborn distribution plot\n",
    "\n",
    "sns.distplot(df2.City.value_counts()[:100])"
   ]
  },
  {
   "cell_type": "code",
   "execution_count": 109,
   "id": "7e9abe56",
   "metadata": {},
   "outputs": [],
   "source": [
    "cities_by_accident = df2.City.value_counts()"
   ]
  },
  {
   "cell_type": "code",
   "execution_count": 110,
   "id": "7573e16a",
   "metadata": {},
   "outputs": [
    {
     "data": {
      "text/plain": [
       "Miami                           106966\n",
       "Los Angeles                      68956\n",
       "Orlando                          54691\n",
       "Dallas                           41979\n",
       "Houston                          39448\n",
       "                                 ...  \n",
       "Ridgedale                            1\n",
       "Sekiu                                1\n",
       "Wooldridge                           1\n",
       "Bullock                              1\n",
       "American Fork-Pleasant Grove         1\n",
       "Name: City, Length: 11681, dtype: int64"
      ]
     },
     "execution_count": 110,
     "metadata": {},
     "output_type": "execute_result"
    }
   ],
   "source": [
    "cities_by_accident"
   ]
  },
  {
   "cell_type": "code",
   "execution_count": 112,
   "id": "cf095a6e",
   "metadata": {},
   "outputs": [],
   "source": [
    "# separate cities by accident to Highest Accident Cities and Lower Accident Cities\n",
    "\n",
    "highest_accident_cities = df2.City.value_counts()[df2.City.value_counts()>1000]\n",
    "Lower_accident_cities = df2.City.value_counts()[df2.City.value_counts()< 1000]"
   ]
  },
  {
   "cell_type": "code",
   "execution_count": 132,
   "id": "2172d94c",
   "metadata": {
    "scrolled": true
   },
   "outputs": [
    {
     "data": {
      "text/plain": [
       "0.957537882030648"
      ]
     },
     "execution_count": 132,
     "metadata": {},
     "output_type": "execute_result"
    }
   ],
   "source": [
    "len(Lower_accident_cities)/len(df2.City.value_counts())"
   ]
  },
  {
   "cell_type": "code",
   "execution_count": 131,
   "id": "fe0c0b98",
   "metadata": {},
   "outputs": [
    {
     "data": {
      "text/plain": [
       "0.042290899751733585"
      ]
     },
     "execution_count": 131,
     "metadata": {},
     "output_type": "execute_result"
    }
   ],
   "source": [
    "len(highest_accident_cities)/len(df2.City.value_counts())"
   ]
  },
  {
   "cell_type": "code",
   "execution_count": 136,
   "id": "cb46fd30",
   "metadata": {},
   "outputs": [
    {
     "name": "stderr",
     "output_type": "stream",
     "text": [
      "c:\\users\\hhc\\appdata\\local\\programs\\python\\python39\\lib\\site-packages\\seaborn\\distributions.py:2619: FutureWarning: `distplot` is a deprecated function and will be removed in a future version. Please adapt your code to use either `displot` (a figure-level function with similar flexibility) or `histplot` (an axes-level function for histograms).\n",
      "  warnings.warn(msg, FutureWarning)\n"
     ]
    },
    {
     "data": {
      "text/plain": [
       "<AxesSubplot:xlabel='City', ylabel='Density'>"
      ]
     },
     "execution_count": 136,
     "metadata": {},
     "output_type": "execute_result"
    },
    {
     "data": {
      "image/png": "[encoded data removed]",
      "text/plain": [
       "<Figure size 432x288 with 1 Axes>"
      ]
     },
     "metadata": {
      "needs_background": "light"
     },
     "output_type": "display_data"
    }
   ],
   "source": [
    "# distribution of countries with less than 1000 accidents recorded\n",
    "sns.distplot(Lower_accident_cities)"
   ]
  },
  {
   "cell_type": "code",
   "execution_count": 135,
   "id": "d13a2ec6",
   "metadata": {},
   "outputs": [
    {
     "data": {
      "text/plain": [
       "<AxesSubplot:xlabel='City', ylabel='Count'>"
      ]
     },
     "execution_count": 135,
     "metadata": {},
     "output_type": "execute_result"
    },
    {
     "data": {
      "image/png": "[encoded data removed]",
      "text/plain": [
       "<Figure size 432x288 with 1 Axes>"
      ]
     },
     "metadata": {
      "needs_background": "light"
     },
     "output_type": "display_data"
    }
   ],
   "source": [
    "sns.histplot(highest_accident_cities, log_scale=True)"
   ]
  },
  {
   "cell_type": "code",
   "execution_count": 137,
   "id": "ecfb7aa6",
   "metadata": {},
   "outputs": [
    {
     "data": {
      "text/plain": [
       "Carney                          1\n",
       "Waverly Hall                    1\n",
       "Center Sandwich                 1\n",
       "Glen Flora                      1\n",
       "Sulphur Springs                 1\n",
       "                               ..\n",
       "Ridgedale                       1\n",
       "Sekiu                           1\n",
       "Wooldridge                      1\n",
       "Bullock                         1\n",
       "American Fork-Pleasant Grove    1\n",
       "Name: City, Length: 1110, dtype: int64"
      ]
     },
     "execution_count": 137,
     "metadata": {},
     "output_type": "execute_result"
    }
   ],
   "source": [
    "# countries which recorded which only recorded 1 accident\n",
    "\n",
    "df2.City.value_counts()[df2.City.value_counts()==1]"
   ]
  },
  {
   "cell_type": "markdown",
   "id": "60e17c95",
   "metadata": {},
   "source": [
    "<i><b>there is something wrong with this, about 1110 cities recorded just 1 accident, How ? </a></i>"
   ]
  },
  {
   "cell_type": "code",
   "execution_count": null,
   "id": "41f90bf9",
   "metadata": {},
   "outputs": [],
   "source": []
  },
  {
   "cell_type": "code",
   "execution_count": null,
   "id": "72766930",
   "metadata": {},
   "outputs": [],
   "source": []
  },
  {
   "cell_type": "code",
   "execution_count": null,
   "id": "3dd98108",
   "metadata": {},
   "outputs": [],
   "source": []
  },
  {
   "cell_type": "markdown",
   "id": "1df56740",
   "metadata": {},
   "source": [
    "## Summary & Insights\n",
    "#### 1. there are 1110 cities which have recorded just 1 accident.?\n",
    "#### 2. only 5 % countries which have recorded more than 1000 accidents,"
   ]
  },
  {
   "cell_type": "markdown",
   "id": "fc71e8ee",
   "metadata": {},
   "source": [
    "### Start Time"
   ]
  },
  {
   "cell_type": "code",
   "execution_count": 165,
   "id": "e43ab668",
   "metadata": {},
   "outputs": [],
   "source": [
    "df2.Start_Time = pd.to_datetime(df2.Start_Time)"
   ]
  },
  {
   "cell_type": "code",
   "execution_count": 161,
   "id": "9d5c25a0",
   "metadata": {},
   "outputs": [
    {
     "data": {
      "text/plain": [
       "<AxesSubplot:xlabel='Start_Time', ylabel='Count'>"
      ]
     },
     "execution_count": 161,
     "metadata": {},
     "output_type": "execute_result"
    },
    {
     "data": {
      "image/png": "[encoded data removed]",
      "text/plain": [
       "<Figure size 432x288 with 1 Axes>"
      ]
     },
     "metadata": {
      "needs_background": "light"
     },
     "output_type": "display_data"
    }
   ],
   "source": [
    "# histogram of accidents recorded every hour\n",
    "# we can see most accidents happened during 6-9 in the morning and 3-7 in the evening\n",
    "sns.histplot(df.Start_Time.dt.hour, bins=24)"
   ]
  },
  {
   "cell_type": "code",
   "execution_count": 168,
   "id": "b678a397",
   "metadata": {},
   "outputs": [
    {
     "data": {
      "text/plain": [
       "<AxesSubplot:xlabel='Start_Time', ylabel='Count'>"
      ]
     },
     "execution_count": 168,
     "metadata": {},
     "output_type": "execute_result"
    },
    {
     "data": {
      "image/png": "[encoded data removed]",
      "text/plain": [
       "<Figure size 432x288 with 1 Axes>"
      ]
     },
     "metadata": {
      "needs_background": "light"
     },
     "output_type": "display_data"
    }
   ],
   "source": [
    "# histogram of accidents recorded day wise (0-monday, 6-Sunday)\n",
    "\n",
    "sns.histplot(df2['Start_Time'].dt.dayofweek, bins=7, color='m')"
   ]
  },
  {
   "cell_type": "markdown",
   "id": "15fdfee3",
   "metadata": {},
   "source": [
    "### is distribution of accidents by hour is same on weekends campared to working day?"
   ]
  },
  {
   "cell_type": "code",
   "execution_count": 179,
   "id": "28340edd",
   "metadata": {},
   "outputs": [],
   "source": [
    "# accidents happened by hour on sunday\n",
    "\n",
    "accidents_on_sunday = df2.Start_Time.dt.hour[df2.Start_Time.dt.dayofweek == 6]"
   ]
  },
  {
   "cell_type": "code",
   "execution_count": 180,
   "id": "d4657565",
   "metadata": {},
   "outputs": [
    {
     "data": {
      "text/plain": [
       "<AxesSubplot:xlabel='Start_Time', ylabel='Count'>"
      ]
     },
     "execution_count": 180,
     "metadata": {},
     "output_type": "execute_result"
    },
    {
     "data": {
      "image/png": "[encoded data removed]",
      "text/plain": [
       "<Figure size 432x288 with 1 Axes>"
      ]
     },
     "metadata": {
      "needs_background": "light"
     },
     "output_type": "display_data"
    }
   ],
   "source": [
    "sns.histplot(accidents_on_sunday)"
   ]
  },
  {
   "cell_type": "code",
   "execution_count": 188,
   "id": "0a0176f5",
   "metadata": {},
   "outputs": [],
   "source": [
    "# accidents happened by hour on monday\n",
    "\n",
    "accidents_on_monday = df2.Start_Time.dt.hour[df2.Start_Time.dt.dayofweek == 0]"
   ]
  },
  {
   "cell_type": "code",
   "execution_count": 190,
   "id": "fc74627f",
   "metadata": {
    "scrolled": true
   },
   "outputs": [
    {
     "data": {
      "text/plain": [
       "<AxesSubplot:xlabel='Start_Time', ylabel='Count'>"
      ]
     },
     "execution_count": 190,
     "metadata": {},
     "output_type": "execute_result"
    },
    {
     "data": {
      "image/png": "[encoded data removed]",
      "text/plain": [
       "<Figure size 432x288 with 1 Axes>"
      ]
     },
     "metadata": {
      "needs_background": "light"
     },
     "output_type": "display_data"
    }
   ],
   "source": [
    "sns.histplot(accidents_on_monday, kde=True)"
   ]
  },
  {
   "cell_type": "code",
   "execution_count": 222,
   "id": "7a27fda4",
   "metadata": {},
   "outputs": [
    {
     "data": {
      "text/plain": [
       "<AxesSubplot:xlabel='Start_Time', ylabel='Count'>"
      ]
     },
     "execution_count": 222,
     "metadata": {},
     "output_type": "execute_result"
    },
    {
     "data": {
      "image/png": "[encoded data removed]",
      "text/plain": [
       "<Figure size 432x288 with 1 Axes>"
      ]
     },
     "metadata": {
      "needs_background": "light"
     },
     "output_type": "display_data"
    }
   ],
   "source": [
    "# accidents happened by months\n",
    "current_palette = sns.color_palette()\n",
    "sns.histplot(df2['Start_Time'].dt.month, bins=12, color='red')"
   ]
  },
  {
   "cell_type": "markdown",
   "id": "9cc34e26",
   "metadata": {},
   "source": [
    "## Summary & Insights"
   ]
  },
  {
   "cell_type": "markdown",
   "id": "79cc6609",
   "metadata": {},
   "source": [
    "#### less accidents happened on weekends as compared to working days\n",
    "#### weekends distribution of accidents by hour is different from working days, its more like a normal distrubtion i.e. bell curve"
   ]
  },
  {
   "cell_type": "markdown",
   "id": "47488856",
   "metadata": {},
   "source": [
    "### Weather Condition"
   ]
  },
  {
   "cell_type": "code",
   "execution_count": 206,
   "id": "95c45dec",
   "metadata": {},
   "outputs": [
    {
     "data": {
      "text/plain": [
       "128"
      ]
     },
     "execution_count": 206,
     "metadata": {},
     "output_type": "execute_result"
    }
   ],
   "source": [
    "# different weather conditions \n",
    "\n",
    "len(df2.Weather_Condition.unique())"
   ]
  },
  {
   "cell_type": "code",
   "execution_count": 363,
   "id": "18b5db84",
   "metadata": {},
   "outputs": [
    {
     "data": {
      "text/plain": [
       "Fair                       1107194\n",
       "Mostly Cloudy               363959\n",
       "Cloudy                      348767\n",
       "Partly Cloudy               249939\n",
       "Clear                       173823\n",
       "Light Rain                  128403\n",
       "Overcast                     84882\n",
       "Scattered Clouds             45132\n",
       "Light Snow                   43752\n",
       "Fog                          41226\n",
       "Haze                         36354\n",
       "Rain                         31044\n",
       "Fair / Windy                 15195\n",
       "Heavy Rain                   11824\n",
       "Smoke                         7200\n",
       "Light Drizzle                 7041\n",
       "Thunder in the Vicinity       6944\n",
       "Cloudy / Windy                6839\n",
       "T-Storm                       6546\n",
       "Mostly Cloudy / Windy         6297\n",
       "Name: Weather_Condition, dtype: int64"
      ]
     },
     "execution_count": 363,
     "metadata": {},
     "output_type": "execute_result"
    }
   ],
   "source": [
    "# total accidents happened in different weather conditions\n",
    "\n",
    "df2.Weather_Condition.value_counts()[:20]"
   ]
  },
  {
   "cell_type": "code",
   "execution_count": 215,
   "id": "e8bf3ccb",
   "metadata": {},
   "outputs": [
    {
     "name": "stderr",
     "output_type": "stream",
     "text": [
      "c:\\users\\hhc\\appdata\\local\\programs\\python\\python39\\lib\\site-packages\\seaborn\\distributions.py:2619: FutureWarning: `distplot` is a deprecated function and will be removed in a future version. Please adapt your code to use either `displot` (a figure-level function with similar flexibility) or `histplot` (an axes-level function for histograms).\n",
      "  warnings.warn(msg, FutureWarning)\n"
     ]
    },
    {
     "data": {
      "text/plain": [
       "<AxesSubplot:xlabel='Weather_Condition', ylabel='Density'>"
      ]
     },
     "execution_count": 215,
     "metadata": {},
     "output_type": "execute_result"
    },
    {
     "data": {
      "image/png": "[encoded data removed]",
      "text/plain": [
       "<Figure size 432x288 with 1 Axes>"
      ]
     },
     "metadata": {
      "needs_background": "light"
     },
     "output_type": "display_data"
    }
   ],
   "source": [
    "sns.distplot(df2.Weather_Condition.value_counts())"
   ]
  },
  {
   "cell_type": "markdown",
   "id": "b906b75d",
   "metadata": {},
   "source": [
    "### Temperature"
   ]
  },
  {
   "cell_type": "code",
   "execution_count": 354,
   "id": "d91bd5d4",
   "metadata": {
    "scrolled": true
   },
   "outputs": [
    {
     "data": {
      "text/plain": [
       "0          42\n",
       "1          36\n",
       "2          36\n",
       "3          39\n",
       "4          37\n",
       "           ..\n",
       "2845337    86\n",
       "2845338    70\n",
       "2845339    73\n",
       "2845340    71\n",
       "2845341    79\n",
       "Name: Temperature(F), Length: 2845342, dtype: int64"
      ]
     },
     "execution_count": 354,
     "metadata": {},
     "output_type": "execute_result"
    }
   ],
   "source": [
    "df2['Temperature(F)']"
   ]
  },
  {
   "cell_type": "code",
   "execution_count": 405,
   "id": "70e81672",
   "metadata": {
    "scrolled": true
   },
   "outputs": [
    {
     "data": {
      "text/plain": [
       "count    2776068.000000\n",
       "mean          61.793556\n",
       "std           18.622629\n",
       "min          -89.000000\n",
       "25%           50.000000\n",
       "50%           64.000000\n",
       "75%           76.000000\n",
       "max          196.000000\n",
       "Name: Temperature(F), dtype: object"
      ]
     },
     "execution_count": 405,
     "metadata": {},
     "output_type": "execute_result"
    }
   ],
   "source": [
    "df2['Temperature(F)'].describe().apply(lambda x: format(x, 'f'))\n"
   ]
  },
  {
   "cell_type": "code",
   "execution_count": 328,
   "id": "13e8899f",
   "metadata": {},
   "outputs": [],
   "source": [
    "# error because Temperature column contain NaN values let's check"
   ]
  },
  {
   "cell_type": "code",
   "execution_count": 406,
   "id": "6b81896d",
   "metadata": {},
   "outputs": [
    {
     "data": {
      "text/plain": [
       "69274"
      ]
     },
     "execution_count": 406,
     "metadata": {},
     "output_type": "execute_result"
    }
   ],
   "source": [
    "df2['Temperature(F)'].isna().sum()"
   ]
  },
  {
   "cell_type": "code",
   "execution_count": 407,
   "id": "ae64139c",
   "metadata": {},
   "outputs": [],
   "source": [
    "# fill the Nan values with 0\n",
    "df2['Temperature(F)']= df2['Temperature(F)'].fillna(0)"
   ]
  },
  {
   "cell_type": "code",
   "execution_count": 408,
   "id": "aeffdf79",
   "metadata": {},
   "outputs": [],
   "source": [
    "# parse float to int\n",
    "\n",
    "df2['Temperature(F)']= df2['Temperature(F)'].astype('int64')"
   ]
  },
  {
   "cell_type": "markdown",
   "id": "e18d6538",
   "metadata": {},
   "source": [
    "### Note\n",
    "\n",
    "#### so the maximum Temperature ever recorded in fahrenheit is 134 F and lowest temperature ever recorded is -128.6 F\n",
    "#### lets check how many temperature counts are greater than 134 F"
   ]
  },
  {
   "cell_type": "code",
   "execution_count": 427,
   "id": "9e717413",
   "metadata": {
    "scrolled": true
   },
   "outputs": [
    {
     "data": {
      "text/plain": [
       "2845334"
      ]
     },
     "execution_count": 427,
     "metadata": {},
     "output_type": "execute_result"
    }
   ],
   "source": [
    "df2['Temperature(F)'][df2['Temperature(F)'] < 134].count()"
   ]
  },
  {
   "cell_type": "code",
   "execution_count": 374,
   "id": "22a5608c",
   "metadata": {},
   "outputs": [],
   "source": [
    "# there are just 8 entries which are greater than 134. so can drop those rows"
   ]
  },
  {
   "cell_type": "code",
   "execution_count": 425,
   "id": "fba825df",
   "metadata": {
    "scrolled": true
   },
   "outputs": [],
   "source": [
    "df2 = df2[df2['Temperature(F)'] < 135]"
   ]
  },
  {
   "cell_type": "code",
   "execution_count": 430,
   "id": "545a8bb4",
   "metadata": {
    "scrolled": true
   },
   "outputs": [
    {
     "data": {
      "text/plain": [
       "2235802    -89\n",
       "2235797    -89\n",
       "2716825    -77\n",
       "1998209    -58\n",
       "2008428    -50\n",
       "          ... \n",
       "1551546    120\n",
       "1618641    120\n",
       "1627780    120\n",
       "17518      127\n",
       "24105      129\n",
       "Name: Temperature(F), Length: 2845334, dtype: int64"
      ]
     },
     "execution_count": 430,
     "metadata": {},
     "output_type": "execute_result"
    }
   ],
   "source": [
    "# wrong temperatures i.e. greater than 134 has been removed\n",
    "\n",
    "df2['Temperature(F)'].sort_values()"
   ]
  },
  {
   "cell_type": "code",
   "execution_count": 432,
   "id": "f54c2d57",
   "metadata": {},
   "outputs": [
    {
     "data": {
      "text/plain": [
       "<AxesSubplot:xlabel='Temperature(F)', ylabel='Count'>"
      ]
     },
     "execution_count": 432,
     "metadata": {},
     "output_type": "execute_result"
    },
    {
     "data": {
      "image/png": "[encoded data removed]",
      "text/plain": [
       "<Figure size 432x288 with 1 Axes>"
      ]
     },
     "metadata": {
      "needs_background": "light"
     },
     "output_type": "display_data"
    }
   ],
   "source": [
    "# lets draw histrogram to see the disribution\n",
    "\n",
    "sns.histplot(df2['Temperature(F)'], kde=True)"
   ]
  },
  {
   "cell_type": "markdown",
   "id": "98df5065",
   "metadata": {},
   "source": [
    "##### it looks like a normal distribution"
   ]
  },
  {
   "cell_type": "markdown",
   "id": "6b0fdc6b",
   "metadata": {},
   "source": [
    "### Start Latitude & Start Longitute"
   ]
  },
  {
   "cell_type": "code",
   "execution_count": 326,
   "id": "5b927a42",
   "metadata": {},
   "outputs": [
    {
     "data": {
      "text/plain": [
       "0          -83.092860\n",
       "1          -84.062800\n",
       "2          -84.524680\n",
       "3          -81.537840\n",
       "4          -84.492792\n",
       "              ...    \n",
       "2845337   -117.379360\n",
       "2845338   -117.148060\n",
       "2845339   -117.847790\n",
       "2845340   -118.403020\n",
       "2845341   -117.230920\n",
       "Name: Start_Lng, Length: 2845342, dtype: float64"
      ]
     },
     "execution_count": 326,
     "metadata": {},
     "output_type": "execute_result"
    }
   ],
   "source": [
    "df2['Start_Lng']"
   ]
  },
  {
   "cell_type": "code",
   "execution_count": 230,
   "id": "014766d7",
   "metadata": {},
   "outputs": [
    {
     "data": {
      "text/html": [
       "<div>\n",
       "<style scoped>\n",
       "    .dataframe tbody tr th:only-of-type {\n",
       "        vertical-align: middle;\n",
       "    }\n",
       "\n",
       "    .dataframe tbody tr th {\n",
       "        vertical-align: top;\n",
       "    }\n",
       "\n",
       "    .dataframe thead th {\n",
       "        text-align: right;\n",
       "    }\n",
       "</style>\n",
       "<table border=\"1\" class=\"dataframe\">\n",
       "  <thead>\n",
       "    <tr style=\"text-align: right;\">\n",
       "      <th></th>\n",
       "      <th>Start_Lng</th>\n",
       "      <th>Start_Lat</th>\n",
       "    </tr>\n",
       "  </thead>\n",
       "  <tbody>\n",
       "    <tr>\n",
       "      <th>count</th>\n",
       "      <td>2845342.00000</td>\n",
       "      <td>2845342.00000</td>\n",
       "    </tr>\n",
       "    <tr>\n",
       "      <th>mean</th>\n",
       "      <td>-97.11463</td>\n",
       "      <td>36.24520</td>\n",
       "    </tr>\n",
       "    <tr>\n",
       "      <th>std</th>\n",
       "      <td>18.31782</td>\n",
       "      <td>5.36380</td>\n",
       "    </tr>\n",
       "    <tr>\n",
       "      <th>min</th>\n",
       "      <td>-124.54807</td>\n",
       "      <td>24.56603</td>\n",
       "    </tr>\n",
       "    <tr>\n",
       "      <th>25%</th>\n",
       "      <td>-118.03311</td>\n",
       "      <td>33.44517</td>\n",
       "    </tr>\n",
       "    <tr>\n",
       "      <th>50%</th>\n",
       "      <td>-92.41808</td>\n",
       "      <td>36.09861</td>\n",
       "    </tr>\n",
       "    <tr>\n",
       "      <th>75%</th>\n",
       "      <td>-80.37243</td>\n",
       "      <td>40.16024</td>\n",
       "    </tr>\n",
       "    <tr>\n",
       "      <th>max</th>\n",
       "      <td>-67.11317</td>\n",
       "      <td>49.00058</td>\n",
       "    </tr>\n",
       "  </tbody>\n",
       "</table>\n",
       "</div>"
      ],
      "text/plain": [
       "           Start_Lng      Start_Lat\n",
       "count  2845342.00000  2845342.00000\n",
       "mean       -97.11463       36.24520\n",
       "std         18.31782        5.36380\n",
       "min       -124.54807       24.56603\n",
       "25%       -118.03311       33.44517\n",
       "50%        -92.41808       36.09861\n",
       "75%        -80.37243       40.16024\n",
       "max        -67.11317       49.00058"
      ]
     },
     "execution_count": 230,
     "metadata": {},
     "output_type": "execute_result"
    }
   ],
   "source": [
    "# lets view some stats of these columns\n",
    "\n",
    "#df2[['Start_Lng', 'Start_Lat']].describe()\n",
    "df2[['Start_Lng', 'Start_Lat']].describe().apply(lambda s: s.apply('{0:.5f}'.format))"
   ]
  },
  {
   "cell_type": "code",
   "execution_count": 228,
   "id": "200a5e2f",
   "metadata": {},
   "outputs": [
    {
     "data": {
      "text/plain": [
       "<AxesSubplot:ylabel='Count'>"
      ]
     },
     "execution_count": 228,
     "metadata": {},
     "output_type": "execute_result"
    },
    {
     "data": {
      "image/png": "[encoded data removed]",
      "text/plain": [
       "<Figure size 432x288 with 1 Axes>"
      ]
     },
     "metadata": {
      "needs_background": "light"
     },
     "output_type": "display_data"
    }
   ],
   "source": [
    "# histogram of start_lat, start_lng\n",
    "\n",
    "sns.histplot(df2[['Start_Lng', 'Start_Lat']])"
   ]
  },
  {
   "cell_type": "code",
   "execution_count": 232,
   "id": "0879281a",
   "metadata": {},
   "outputs": [
    {
     "data": {
      "text/plain": [
       "<AxesSubplot:xlabel='Start_Lng', ylabel='Start_Lat'>"
      ]
     },
     "execution_count": 232,
     "metadata": {},
     "output_type": "execute_result"
    },
    {
     "data": {
      "image/png": "[encoded data removed]",
      "text/plain": [
       "<Figure size 432x288 with 1 Axes>"
      ]
     },
     "metadata": {
      "needs_background": "light"
     },
     "output_type": "display_data"
    }
   ],
   "source": [
    "sns.scatterplot(y=df2.Start_Lat, x=df2.Start_Lng)"
   ]
  },
  {
   "cell_type": "code",
   "execution_count": 464,
   "id": "8c49c28c",
   "metadata": {},
   "outputs": [
    {
     "data": {
      "text/html": [
       "<div style=\"width:100%;\"><div style=\"position:relative;width:100%;height:0;padding-bottom:60%;\"><span style=\"color:#565656\">Make this Notebook Trusted to load map: File -> Trust Notebook</span><iframe srcdoc=\"&lt;!DOCTYPE html&gt;\n",
       "&lt;head&gt;    \n",
       "    &lt;meta http-equiv=&quot;content-type&quot; content=&quot;text/html; charset=UTF-8&quot; /&gt;\n",
       "    \n",
       "        &lt;script&gt;\n",
       "            L_NO_TOUCH = false;\n",
       "            L_DISABLE_3D = false;\n",
       "        &lt;/script&gt;\n",
       "    \n",
       "    &lt;style&gt;html, body {width: 100%;height: 100%;margin: 0;padding: 0;}&lt;/style&gt;\n",
       "    &lt;style&gt;#map {position:absolute;top:0;bottom:0;right:0;left:0;}&lt;/style&gt;\n",
       "    &lt;script src=&quot;https://cdn.jsdelivr.net/npm/leaflet@1.6.0/dist/leaflet.js&quot;&gt;&lt;/script&gt;\n",
       "    &lt;script src=&quot;https://code.jquery.com/jquery-1.12.4.min.js&quot;&gt;&lt;/script&gt;\n",
       "    &lt;script src=&quot;https://maxcdn.bootstrapcdn.com/bootstrap/3.2.0/js/bootstrap.min.js&quot;&gt;&lt;/script&gt;\n",
       "    &lt;script src=&quot;https://cdnjs.cloudflare.com/ajax/libs/Leaflet.awesome-markers/2.0.2/leaflet.awesome-markers.js&quot;&gt;&lt;/script&gt;\n",
       "    &lt;link rel=&quot;stylesheet&quot; href=&quot;https://cdn.jsdelivr.net/npm/leaflet@1.6.0/dist/leaflet.css&quot;/&gt;\n",
       "    &lt;link rel=&quot;stylesheet&quot; href=&quot;https://maxcdn.bootstrapcdn.com/bootstrap/3.2.0/css/bootstrap.min.css&quot;/&gt;\n",
       "    &lt;link rel=&quot;stylesheet&quot; href=&quot;https://maxcdn.bootstrapcdn.com/bootstrap/3.2.0/css/bootstrap-theme.min.css&quot;/&gt;\n",
       "    &lt;link rel=&quot;stylesheet&quot; href=&quot;https://maxcdn.bootstrapcdn.com/font-awesome/4.6.3/css/font-awesome.min.css&quot;/&gt;\n",
       "    &lt;link rel=&quot;stylesheet&quot; href=&quot;https://cdnjs.cloudflare.com/ajax/libs/Leaflet.awesome-markers/2.0.2/leaflet.awesome-markers.css&quot;/&gt;\n",
       "    &lt;link rel=&quot;stylesheet&quot; href=&quot;https://cdn.jsdelivr.net/gh/python-visualization/folium/folium/templates/leaflet.awesome.rotate.min.css&quot;/&gt;\n",
       "    \n",
       "            &lt;meta name=&quot;viewport&quot; content=&quot;width=device-width,\n",
       "                initial-scale=1.0, maximum-scale=1.0, user-scalable=no&quot; /&gt;\n",
       "            &lt;style&gt;\n",
       "                #map_b20fdf5d4290f25ffb8826ad0a023cc5 {\n",
       "                    position: relative;\n",
       "                    width: 100.0%;\n",
       "                    height: 100.0%;\n",
       "                    left: 0.0%;\n",
       "                    top: 0.0%;\n",
       "                }\n",
       "            &lt;/style&gt;\n",
       "        \n",
       "&lt;/head&gt;\n",
       "&lt;body&gt;    \n",
       "    \n",
       "            &lt;div class=&quot;folium-map&quot; id=&quot;map_b20fdf5d4290f25ffb8826ad0a023cc5&quot; &gt;&lt;/div&gt;\n",
       "        \n",
       "&lt;/body&gt;\n",
       "&lt;script&gt;    \n",
       "    \n",
       "            var map_b20fdf5d4290f25ffb8826ad0a023cc5 = L.map(\n",
       "                &quot;map_b20fdf5d4290f25ffb8826ad0a023cc5&quot;,\n",
       "                {\n",
       "                    center: [0, 0],\n",
       "                    crs: L.CRS.EPSG3857,\n",
       "                    zoom: 1,\n",
       "                    zoomControl: true,\n",
       "                    preferCanvas: false,\n",
       "                }\n",
       "            );\n",
       "\n",
       "            \n",
       "\n",
       "        \n",
       "    \n",
       "            var tile_layer_8c6484dc3508c3bc21a575a6f34e4931 = L.tileLayer(\n",
       "                &quot;https://{s}.tile.openstreetmap.org/{z}/{x}/{y}.png&quot;,\n",
       "                {&quot;attribution&quot;: &quot;Data by \\u0026copy; \\u003ca href=\\&quot;http://openstreetmap.org\\&quot;\\u003eOpenStreetMap\\u003c/a\\u003e, under \\u003ca href=\\&quot;http://www.openstreetmap.org/copyright\\&quot;\\u003eODbL\\u003c/a\\u003e.&quot;, &quot;detectRetina&quot;: false, &quot;maxNativeZoom&quot;: 18, &quot;maxZoom&quot;: 18, &quot;minZoom&quot;: 0, &quot;noWrap&quot;: false, &quot;opacity&quot;: 1, &quot;subdomains&quot;: &quot;abc&quot;, &quot;tms&quot;: false}\n",
       "            ).addTo(map_b20fdf5d4290f25ffb8826ad0a023cc5);\n",
       "        \n",
       "&lt;/script&gt;\" style=\"position:absolute;width:100%;height:100%;left:0;top:0;border:none !important;\" allowfullscreen webkitallowfullscreen mozallowfullscreen></iframe></div></div>"
      ],
      "text/plain": [
       "<folium.folium.Map at 0x1d4733ef370>"
      ]
     },
     "execution_count": 464,
     "metadata": {},
     "output_type": "execute_result"
    }
   ],
   "source": [
    "import folium\n",
    "map = folium.Map()\n",
    "map"
   ]
  },
  {
   "cell_type": "code",
   "execution_count": 251,
   "id": "cc3b3599",
   "metadata": {},
   "outputs": [
    {
     "data": {
      "text/plain": [
       "Start_Lng   -84.06280\n",
       "Start_Lat    39.86542\n",
       "Name: 1, dtype: float64"
      ]
     },
     "execution_count": 251,
     "metadata": {},
     "output_type": "execute_result"
    }
   ],
   "source": [
    "# put a piont on a map\n",
    "\n",
    "df2[['Start_Lng', 'Start_Lat']].iloc[1]"
   ]
  },
  {
   "cell_type": "code",
   "execution_count": 288,
   "id": "909bd788",
   "metadata": {},
   "outputs": [],
   "source": [
    "location = folium.Map(location=[39.86542,-84.06280], zoom_start=18, control_scale=True, tiles='Stamen Water Color')"
   ]
  },
  {
   "cell_type": "markdown",
   "id": "243332ec",
   "metadata": {},
   "source": [
    "### HeatMap"
   ]
  },
  {
   "cell_type": "code",
   "execution_count": 463,
   "id": "a8442cfc",
   "metadata": {},
   "outputs": [],
   "source": [
    "from folium import plugins\n",
    "from folium.plugins import HeatMap"
   ]
  },
  {
   "cell_type": "code",
   "execution_count": 462,
   "id": "5e8e10a7",
   "metadata": {},
   "outputs": [
    {
     "data": {
      "text/plain": [
       "24"
      ]
     },
     "execution_count": 462,
     "metadata": {},
     "output_type": "execute_result"
    }
   ],
   "source": [
    "21+3"
   ]
  },
  {
   "cell_type": "code",
   "execution_count": 316,
   "id": "a372cd05",
   "metadata": {},
   "outputs": [],
   "source": [
    "# 01 % random sample of dataframe\n",
    "\n",
    "df_sample2 = df2.sample(int(0.001*len(df2)))"
   ]
  },
  {
   "cell_type": "code",
   "execution_count": 315,
   "id": "e68d5d2e",
   "metadata": {},
   "outputs": [
    {
     "data": {
      "text/plain": [
       "(2845, 46)"
      ]
     },
     "execution_count": 315,
     "metadata": {},
     "output_type": "execute_result"
    }
   ],
   "source": [
    "df_sample2.shape"
   ]
  },
  {
   "cell_type": "code",
   "execution_count": 465,
   "id": "0f82ba3a",
   "metadata": {},
   "outputs": [
    {
     "data": {
      "text/html": [
       "<div style=\"width:100%;\"><div style=\"position:relative;width:100%;height:0;padding-bottom:60%;\"><span style=\"color:#565656\">Make this Notebook Trusted to load map: File -> Trust Notebook</span><iframe srcdoc=\"&lt;!DOCTYPE html&gt;\n",
       "&lt;head&gt;    \n",
       "    &lt;meta http-equiv=&quot;content-type&quot; content=&quot;text/html; charset=UTF-8&quot; /&gt;\n",
       "    \n",
       "        &lt;script&gt;\n",
       "            L_NO_TOUCH = false;\n",
       "            L_DISABLE_3D = false;\n",
       "        &lt;/script&gt;\n",
       "    \n",
       "    &lt;style&gt;html, body {width: 100%;height: 100%;margin: 0;padding: 0;}&lt;/style&gt;\n",
       "    &lt;style&gt;#map {position:absolute;top:0;bottom:0;right:0;left:0;}&lt;/style&gt;\n",
       "    &lt;script src=&quot;https://cdn.jsdelivr.net/npm/leaflet@1.6.0/dist/leaflet.js&quot;&gt;&lt;/script&gt;\n",
       "    &lt;script src=&quot;https://code.jquery.com/jquery-1.12.4.min.js&quot;&gt;&lt;/script&gt;\n",
       "    &lt;script src=&quot;https://maxcdn.bootstrapcdn.com/bootstrap/3.2.0/js/bootstrap.min.js&quot;&gt;&lt;/script&gt;\n",
       "    &lt;script src=&quot;https://cdnjs.cloudflare.com/ajax/libs/Leaflet.awesome-markers/2.0.2/leaflet.awesome-markers.js&quot;&gt;&lt;/script&gt;\n",
       "    &lt;link rel=&quot;stylesheet&quot; href=&quot;https://cdn.jsdelivr.net/npm/leaflet@1.6.0/dist/leaflet.css&quot;/&gt;\n",
       "    &lt;link rel=&quot;stylesheet&quot; href=&quot;https://maxcdn.bootstrapcdn.com/bootstrap/3.2.0/css/bootstrap.min.css&quot;/&gt;\n",
       "    &lt;link rel=&quot;stylesheet&quot; href=&quot;https://maxcdn.bootstrapcdn.com/bootstrap/3.2.0/css/bootstrap-theme.min.css&quot;/&gt;\n",
       "    &lt;link rel=&quot;stylesheet&quot; href=&quot;https://maxcdn.bootstrapcdn.com/font-awesome/4.6.3/css/font-awesome.min.css&quot;/&gt;\n",
       "    &lt;link rel=&quot;stylesheet&quot; href=&quot;https://cdnjs.cloudflare.com/ajax/libs/Leaflet.awesome-markers/2.0.2/leaflet.awesome-markers.css&quot;/&gt;\n",
       "    &lt;link rel=&quot;stylesheet&quot; href=&quot;https://cdn.jsdelivr.net/gh/python-visualization/folium/folium/templates/leaflet.awesome.rotate.min.css&quot;/&gt;\n",
       "    \n",
       "            &lt;meta name=&quot;viewport&quot; content=&quot;width=device-width,\n",
       "                initial-scale=1.0, maximum-scale=1.0, user-scalable=no&quot; /&gt;\n",
       "            &lt;style&gt;\n",
       "                #map_b20fdf5d4290f25ffb8826ad0a023cc5 {\n",
       "                    position: relative;\n",
       "                    width: 100.0%;\n",
       "                    height: 100.0%;\n",
       "                    left: 0.0%;\n",
       "                    top: 0.0%;\n",
       "                }\n",
       "            &lt;/style&gt;\n",
       "        \n",
       "    &lt;script src=&quot;https://cdn.jsdelivr.net/gh/python-visualization/folium@master/folium/templates/leaflet_heat.min.js&quot;&gt;&lt;/script&gt;\n",
       "&lt;/head&gt;\n",
       "&lt;body&gt;    \n",
       "    \n",
       "            &lt;div class=&quot;folium-map&quot; id=&quot;map_b20fdf5d4290f25ffb8826ad0a023cc5&quot; &gt;&lt;/div&gt;\n",
       "        \n",
       "&lt;/body&gt;\n",
       "&lt;script&gt;    \n",
       "    \n",
       "            var map_b20fdf5d4290f25ffb8826ad0a023cc5 = L.map(\n",
       "                &quot;map_b20fdf5d4290f25ffb8826ad0a023cc5&quot;,\n",
       "                {\n",
       "                    center: [0, 0],\n",
       "                    crs: L.CRS.EPSG3857,\n",
       "                    zoom: 1,\n",
       "                    zoomControl: true,\n",
       "                    preferCanvas: false,\n",
       "                }\n",
       "            );\n",
       "\n",
       "            \n",
       "\n",
       "        \n",
       "    \n",
       "            var tile_layer_8c6484dc3508c3bc21a575a6f34e4931 = L.tileLayer(\n",
       "                &quot;https://{s}.tile.openstreetmap.org/{z}/{x}/{y}.png&quot;,\n",
       "                {&quot;attribution&quot;: &quot;Data by \\u0026copy; \\u003ca href=\\&quot;http://openstreetmap.org\\&quot;\\u003eOpenStreetMap\\u003c/a\\u003e, under \\u003ca href=\\&quot;http://www.openstreetmap.org/copyright\\&quot;\\u003eODbL\\u003c/a\\u003e.&quot;, &quot;detectRetina&quot;: false, &quot;maxNativeZoom&quot;: 18, &quot;maxZoom&quot;: 18, &quot;minZoom&quot;: 0, &quot;noWrap&quot;: false, &quot;opacity&quot;: 1, &quot;subdomains&quot;: &quot;abc&quot;, &quot;tms&quot;: false}\n",
       "            ).addTo(map_b20fdf5d4290f25ffb8826ad0a023cc5);\n",
       "        \n",
       "    \n",
       "            var heat_map_170fab6108e29dcbe8d1215d46b2b720 = L.heatLayer(\n",
       "                [[37.145234, -121.984285], [44.84017, -93.79511], [25.688373, -80.350871], [26.002855, -80.167179], [37.619197, -122.148188], [37.145717, -93.428989], [25.8123, -80.24415], [47.397705, -123.143126], [38.038283, -122.536472], [27.11139600000001, -82.384425], [33.847892, -86.82736700000002], [38.670761, -121.454353], [32.895232, -117.115902], [34.073532, -81.759552], [30.402248, -97.657522], [30.310706, -81.705365], [33.99475, -117.36075], [41.826025, -71.422067], [32.11892, -110.77284], [41.243643, -74.801067], [42.155088, -121.799594], [40.72603, -73.37758000000002], [34.062762, -117.54438799999998], [40.488106, -83.074759], [45.05833, -123.630532], [46.58753, -122.89238], [41.371501, -73.801019], [35.253506, -117.61191399999998], [29.650029, -95.533358], [33.88454, -117.63692], [43.513535, -112.201974], [41.19767, -95.94348], [41.177663, -112.02598], [38.205634, -85.50742199999998], [40.738308, -73.84588000000002], [35.336708, -80.824841], [45.404868, -122.74418500000002], [33.625169, -84.399987], [43.2112, -77.58026], [39.81336500000001, -78.625384], [42.96244, -88.00398], [34.380099, -118.568777], [41.33149, -85.088], [33.921407, -117.880336], [42.87179, -87.93427], [36.254797, -119.672752], [25.519264, -80.426908], [30.548234000000004, -91.0512], [29.145494, -82.18519], [28.401674, -81.483173], [27.538059000000004, -82.511054], [33.122173, -117.321918], [38.82872, -77.21907], [36.15881, -86.82234], [27.463406, -82.562162], [43.599382, -116.508926], [35.059731, -80.81280500000003], [40.84005, -73.92905999999998], [32.344853, -111.067398], [44.06842, -89.337618], [45.56017, -122.56381], [38.86784, -111.9641], [25.924783, -80.315712], [32.837115000000004, -97.129721], [37.778624, -122.401245], [29.99157, -90.05363299999998], [33.77875, -117.88096000000002], [36.7501, -76.612297], [28.551347, -81.447505], [34.10044, -117.81949], [32.81473, -96.687656], [42.152995, -88.029039], [29.7168, -95.538896], [32.795865, -97.322382], [33.876096000000004, -118.122435], [29.728984000000004, -95.520174], [38.9727, -121.015123], [30.380724, -97.739481], [45.171393, -117.800098], [29.737659000000004, -95.490317], [25.923378, -80.293072], [40.134457, -75.332647], [37.667065, -122.395194], [34.15438, -118.287638], [25.808007, -80.27573100000002], [33.94119, -118.09653], [38.552066, -121.432989], [35.14665, -80.81929000000002], [38.939784, -76.64328], [37.279687, -113.310662], [37.79731500000001, -121.269098], [36.50363, -119.629043], [38.485095, -121.24223], [35.97472, -78.87254], [32.183726, -110.956581], [38.49152700000001, -121.382645], [35.404719, -80.856596], [35.27083, -82.677312], [25.760889, -80.39709], [45.67498300000001, -111.010118], [33.729068, -84.39278399999998], [39.06041, -77.15590999999998], [33.931034999999994, -118.30752], [38.593474, -121.265498], [37.333542, -122.07273899999998], [37.092596, -121.614794], [41.1684, -73.19998299999997], [41.96845, -87.70846999999998], [34.028849, -117.716588], [34.140370000000004, -118.366093], [36.153691, -86.78778199999998], [29.982304, -90.077171], [42.97639, -85.64801800000002], [33.91294, -118.1354], [36.165865, -86.612721], [33.763875, -80.178832], [34.036784999999995, -118.288902], [42.933084, -78.806459], [40.038671, -76.32894], [38.96066500000001, -78.192593], [38.770333, -77.537459], [44.980226, -93.400515], [35.09368, -81.00494599999998], [42.96749000000001, -71.41386], [33.850796, -118.011249], [28.493792, -81.459929], [29.937304, -95.499247], [38.497118, -121.409046], [40.987888, -73.676389], [32.705928, -97.320479], [44.02917, -123.02975], [36.16741, -86.78753], [47.636376, -122.323348], [37.808042, -85.744374], [33.941182, -118.096502], [29.507399, -81.195927], [35.085493, -89.875062], [37.386619, -121.905526], [38.940457, -76.85606800000002], [40.67075300000001, -111.460099], [37.632131, -77.638363], [45.501956, -110.59922], [25.807791, -80.305909], [44.806617, -95.565926], [39.761602, -86.11638], [36.16906, -86.68236999999998], [40.820099, -73.202301], [37.027516, -121.604485], [38.875935, -77.280192], [33.89993, -118.273962], [33.413646, -117.602298], [32.297708, -95.304548], [45.42329, -117.29675], [25.847276, -80.207497], [42.491172, -83.071294], [38.327747, -85.832093], [38.633691, -121.211804], [34.112817, -79.632736], [42.60489000000001, -73.71794], [35.44976, -97.72464], [30.241655, -97.773683], [37.233427, -77.395752], [43.054118, -116.319806], [42.73953, -78.84961700000002], [41.047411, -78.463206], [37.68844, -122.11121], [35.745998, -78.875509], [39.762021, -105.717304], [33.914103000000004, -118.104945], [35.594654, -97.584959], [47.482556, -92.895873], [42.815456, -123.260675], [34.797658, -92.380446], [25.862898, -80.20836800000002], [42.36955, -121.38588], [42.47603, -83.11779], [40.918396, -74.087666], [30.41733, -91.091954], [41.17446, -112.01095], [25.83108, -80.24199], [33.729226000000004, -117.076418], [34.029428, -117.329795], [33.700611, -117.775164], [35.79535999999999, -78.52063000000003], [25.946862, -80.282133], [47.13185, -122.434682], [25.899184, -80.191929], [39.936344, -111.140169], [39.140991, -84.483618], [34.071292, -81.14620699999998], [41.81162, -87.58936], [34.019187, -81.501924], [25.9464, -80.1861], [40.66563, -73.83236], [29.823011, -95.387354], [40.576618, -75.782808], [36.966936, -76.296196], [25.743114, -80.430389], [41.90443, -88.03249], [40.738741, -78.533951], [29.656888, -95.463382], [38.894314, -120.872377], [36.142047, -95.992416], [30.452993, -87.25967800000002], [37.204486, -77.412887], [39.292651, -121.09603], [34.104391, -118.32247], [30.403622, -81.564785], [41.250336, -74.894536], [36.7727, -119.74913], [37.66351, -122.10607], [36.16799, -86.76581], [40.64510300000001, -76.96257], [29.385919, -82.09689399999998], [37.887741, -122.308935], [38.068174, -120.991154], [44.247555, -120.990491], [30.449018, -87.30818199999999], [28.531882, -81.414006], [44.93508, -93.390295], [33.74325, -117.11505], [36.799446, -76.428591], [39.25961, -76.63507], [38.485152, -121.423908], [41.11780200000001, -78.547965], [37.295685, -122.027103], [35.97721, -83.97939000000002], [34.052592, -118.226617], [44.003354, -93.773473], [25.627895, -80.414635], [33.37045, -111.89375], [33.995238, -80.842486], [34.02723, -118.23281], [34.583748, -118.35679], [28.02535, -82.484206], [32.157424, -110.942674], [40.859564, -73.872557], [39.310168, -120.767991], [40.25917000000001, -74.51328000000002], [34.064177, -118.616824], [29.779224, -95.599212], [33.981845, -118.074827], [30.04839500000001, -89.95789], [41.229275, -76.736122], [25.868208, -80.21189100000002], [41.77030900000001, -72.681888], [33.293784, -117.211927], [34.006742, -117.826647], [40.54976, -111.89592], [25.71982, -80.32136], [34.406333000000004, -112.072125], [33.86158, -118.09724], [35.04803, -85.318154], [38.910972, -77.04728], [28.019596000000003, -82.724912], [42.26737, -84.61729], [35.781135, -78.61896800000002], [38.75411, -90.45436], [38.93532, -121.024008], [35.144866, -90.022562], [33.945007000000004, -118.279601], [32.555568, -110.932954], [43.997168, -92.484747], [34.552634000000005, -79.195686], [45.052484, -120.1908], [42.98836, -85.60507], [38.40346, -122.816438], [32.74595, -117.21085], [44.922821, -93.40172], [39.74506, -84.09416], [30.379152, -91.097826], [39.140714, -77.212396], [41.236099, -77.046014], [35.199765, -80.721259], [36.7958, -119.868835], [25.872704, -80.347313], [38.671363, -121.59488], [36.213248, -83.745605], [25.764586, -80.303949], [33.126257, -117.324682], [33.838403, -117.584841], [33.592517, -80.356748], [48.04293, -124.3771], [40.511936, -78.40789000000002], [45.603816, -121.182754], [32.52123, -90.09891], [37.808321, -122.36702], [35.122494, -80.854421], [46.409304, -93.874147], [32.289488, -95.303174], [38.67310300000001, -76.876168], [33.876391, -118.1589], [27.961298, -82.730132], [45.618941, -118.653793], [29.982644, -90.05494200000004], [30.397167, -91.052732], [36.596484, -121.546357], [41.377848, -112.04249], [30.345901, -91.148663], [32.69606, -96.84254], [34.00387, -81.11020699999997], [38.297555, -122.709643], [33.462270000000004, -112.22652], [47.402804, -122.044267], [33.749590000000005, -84.2313], [32.349643, -95.300633], [32.775509, -96.811003], [42.49573, -83.36595], [26.671618, -80.070065], [30.250101, -81.54207099999998], [33.858709999999995, -118.03346], [44.822975, -120.929601], [36.220024, -86.774772], [44.320332, -121.12843], [25.904579, -80.241752], [32.823272, -96.629627], [37.95946, -121.229145], [36.0899, -95.88647], [30.03631, -90.343773], [42.81671400000001, -121.834546], [39.783118, -75.473129], [30.382851, -87.30228699999998], [40.245291, -75.243523], [42.36421, -83.56], [29.731567, -95.475227], [28.519536, -81.288619], [33.870638, -118.005809], [35.383074, -119.045145], [37.82471, -122.270428], [33.928746999999994, -118.233442], [39.77121, -84.18441999999997], [35.23599, -80.83773000000002], [33.861268, -118.096879], [30.335441, -81.66942399999998], [33.696102, -117.084844], [38.61254, -90.21506], [36.046693, -79.756424], [36.031827, -95.897883], [38.41629, -82.34609], [28.3149, -81.40370300000002], [40.903978, -74.10628299999998], [45.39584, -122.48866], [26.182748, -80.152419], [33.504394, -117.152842], [25.899633, -80.18226999999997], [28.872021000000004, -81.284385], [33.927115, -118.178089], [26.060483, -80.21514300000003], [27.58881, -82.15339], [27.856961, -82.346531], [42.947482, -78.765334], [34.166345, -80.907965], [40.799062, -124.20436], [34.036390000000004, -118.32062], [30.423201, -91.171095], [45.15123, -122.818934], [47.58924, -122.25495], [32.709990000000005, -96.83026], [25.805679, -80.31308], [39.204679, -94.498611], [40.132141, -76.862264], [30.529068, -87.326673], [41.903, -88.08051], [42.41299, -73.6819], [29.954284, -90.122042], [42.250793, -123.147978], [29.964641, -90.072966], [42.545725, -79.114683], [42.055953, -119.486457], [30.746837, -85.430642], [36.968545, -76.29881800000003], [25.967527, -80.229388], [25.811508, -80.198596], [33.654086, -117.742417], [33.49918, -112.26627], [40.54417, -111.97677], [41.726694, -72.77659200000002], [27.462469, -82.575424], [41.74773, -72.65890999999998], [25.508942, -80.436982], [35.798561, -78.564184], [34.192787, -118.181514], [39.641203, -78.812522], [32.958984, -80.679446], [34.030965, -118.030988], [40.819469, -73.930776], [37.905202, -121.341652], [29.721719, -95.493475], [40.83602, -73.87392], [29.775024, -95.315203], [40.568839, -123.177116], [37.368383, -121.908573], [25.575531, -80.372676], [34.264814, -119.237591], [40.594986, -74.235187], [33.40159, -111.89098], [41.628538, -112.095361], [37.47203, -122.29585], [25.732173, -80.33572099999998], [28.33244, -81.576817], [43.116575, -83.76325899999998], [39.280768, -120.711497], [38.823811, -120.031195], [33.931653999999995, -118.089921], [35.269982, -117.564238], [29.7389, -95.623624], [40.771548, -76.40522299999998], [44.09499, -123.10606], [38.628394, -77.29352800000002], [26.963518, -82.07294399999998], [33.55312, -112.1083], [44.96542, -93.28805], [34.025068, -117.33458799999998], [38.013977, -121.876289], [33.168868, -87.51049300000004], [39.244889, -94.47822], [25.836298, -80.245453], [45.42013, -122.74398899999998], [41.65072, -93.57696], [33.949923, -118.36856], [37.40444, -77.6643], [47.29328, -122.30565], [32.758720000000004, -96.98528], [39.340815, -121.538058], [38.748258, -76.0661], [25.810617, -80.313379], [37.542988, -122.020226], [32.961883, -79.96715400000002], [40.843256, -73.927623], [35.368986, -80.790531], [40.341758, -74.104763], [33.987315, -118.395095], [36.824708, -121.665284], [33.407435, -111.919516], [28.003056, -80.653397], [35.001865, -85.154597], [32.564840000000004, -96.82258], [32.912477, -96.898086], [34.21625, -117.411499], [39.77293, -86.03019], [30.684628000000004, -88.127162], [37.21472, -120.488], [37.558997, -77.420146], [43.77633, -121.45074], [33.70541, -117.85478], [33.88645, -84.26696], [48.36878400000001, -114.219158], [37.038673, -119.517394], [33.884679, -117.52162], [41.689154, -87.661633], [40.189915, -75.135873], [41.340705, -75.308414], [37.710888, -120.921863], [40.243157, -75.28214200000002], [34.184704, -118.159689], [40.766637, -73.89612], [42.49055, -83.420419], [33.889406, -117.646132], [26.569608, -80.17319], [34.012598, -118.277965], [35.823925, -78.37854300000002], [35.337682, -119.039478], [34.37198, -118.50049], [34.061628000000006, -118.163019], [40.28055300000001, -75.253939], [34.020838, -118.277539], [34.352663, -118.505167], [40.74814, -74.16686999999997], [39.512721, -121.48166], [37.40854, -76.287098], [26.591666, -80.069271], [36.815732, -121.637996], [44.796586, -123.033143], [25.928132, -80.293405], [41.29873900000001, -73.942103], [42.17922, -70.91633], [44.00779, -116.94182], [32.865464, -96.786671], [29.149842, -82.110474], [36.774739, -76.277594], [34.135637, -117.968344], [32.917129, -96.682899], [34.053756, -81.06013100000001], [30.372463, -98.077768], [35.093291, -81.00527], [25.933097, -80.121872], [34.128277000000004, -118.14735], [32.80892, -96.758726], [34.04521, -118.17106499999998], [38.713295, -121.364388], [28.49447, -81.39676], [27.985533, -82.826601], [42.51852, -83.64536], [45.07296, -122.68585], [35.49331, -97.7068], [40.958745, -111.426887], [25.731345, -80.367727], [32.759653, -97.053533], [45.107706, -93.465982], [33.255107, -111.822641], [38.560302, -121.457306], [41.79669000000001, -87.81414000000002], [40.347386, -79.973947], [40.934782, -73.865086], [40.20512700000001, -76.117566], [40.70956, -112.24907], [44.045869, -122.994467], [30.32181, -81.695941], [37.71096, -122.12671], [34.402205, -119.2868], [37.807639, -121.296954], [35.328351, -118.803609], [37.31708, -121.93119], [25.930028, -80.188337], [25.64588, -80.333287], [33.695485999999995, -84.499808], [27.521729, -82.537287], [25.601067, -80.51100799999998], [32.367740000000005, -86.071409], [39.701376, -86.260564], [34.029089, -118.004654], [25.728558, -80.43160300000002], [41.117416, -73.50075600000002], [28.196686, -82.723619], [25.807949, -80.31314499999998], [34.473807, -118.467641], [28.561316, -81.364446], [33.6106, -112.314079], [37.47296, -77.44360999999998], [40.868117, -73.91975500000002], [37.55446, -122.04818], [33.996744, -81.134328], [40.221962, -87.252376], [43.644688, -123.52876299999998], [36.080413, -119.037873], [34.151266, -118.13228], [34.375068, -117.421875], [35.33134000000001, -91.788237], [36.266384, -119.363571], [31.56152100000001, -97.117112], [45.511385, -94.279816], [36.047493, -119.311289], [41.76169, -87.62589], [35.22025, -80.82873000000002], [34.134633, -117.646557], [34.17018, -117.45462], [25.854676, -80.354778], [34.028931, -117.811436], [39.72279, -105.01065], [42.864896, -78.791931], [43.117872, -122.162464], [34.687346999999995, -111.744466], [33.7422, -117.83374], [38.97669000000001, -77.07715], [38.80473, -77.16048], [41.861585, -91.669084], [41.739784, -112.143555], [41.370806, -74.10197099999998], [34.720581, -92.368642], [33.928989, -81.037312], [38.405169, -105.055331], [37.45952, -77.54691], [46.846763, -92.538775], [36.695593, -80.871496], [35.466239, -82.576619], [40.224487, -75.20665699999998], [40.156122, -75.141756], [37.952748, -121.231161], [41.6191, -72.68285999999998], [25.686775, -80.369059], [38.714361, -121.413665], [41.98385, -87.84459], [45.543665, -122.371662], [38.285123, -122.30066399999998], [41.62895, -83.52507], [36.160621, -86.775364], [40.68337, -75.296784], [30.517538, -87.220013], [39.77747, -86.141127], [28.29468, -81.36706], [40.26617, -77.04955], [28.428143, -81.405668], [26.18858, -80.21365], [36.952836, -120.110242], [34.072767, -118.05465900000002], [40.808726, -111.412707], [40.49598, -79.911342], [35.030947999999995, -82.423231], [29.639555, -95.245126], [25.62695, -80.389076], [39.113505, -121.564882], [34.087177000000004, -117.669537], [38.622907, -90.188081], [25.87098, -80.20871], [36.04, -86.74349000000002], [47.030271, -112.129801], [33.74981, -84.23133], [39.099, -94.614611], [30.525945, -87.274805], [39.90285, -75.1159], [41.232677, -77.133535], [38.941844, -109.601765], [33.945478, -118.291892], [32.749835, -117.163918], [35.887679, -120.045578], [40.296108, -76.82535899999998], [32.365316, -95.323696], [33.928740999999995, -118.368725], [32.2457, -110.884104], [34.05474, -118.25733], [29.68803, -95.277597], [40.694635, -74.11588499999998], [33.133520000000004, -117.12489], [38.116111, -121.398056], [39.17363, -76.79651], [25.669927, -80.41624499999998], [35.41686, -80.67444], [41.20675, -73.19082], [34.031714, -118.416959], [25.702496, -80.33094799999998], [40.69324, -73.54346], [30.257339, -97.750684], [35.801544, -79.97608199999998], [47.31778, -122.58736], [39.930506, -86.273392], [40.873273, -73.905966], [34.157114, -118.448676], [34.11753, -117.807053], [38.081933, -77.878682], [38.553589, -121.690632], [38.880017, -76.999881], [38.6607, -121.33728], [33.942029, -118.011573], [40.012151, -75.299503], [25.927364, -80.215437], [41.355499, -122.35643], [25.884161, -80.35014], [45.01632, -122.99044], [35.34079000000001, -80.7403], [42.29286, -71.48479], [37.85551, -121.23705], [34.278984, -118.874758], [40.347837, -111.765321], [33.91098, -117.88374], [37.260335, -121.799057], [34.420299, -119.669972], [29.42309, -98.50165], [34.82011, -118.87949], [33.989137, -118.288942], [44.983791, -122.994136], [25.669776, -80.416237], [34.543949, -79.654811], [25.598565, -80.35525200000002], [34.230685, -118.398929], [27.478899, -82.466013], [33.335856, -117.151475], [27.099307, -82.219542], [41.299787, -73.88631099999998], [37.881075, -121.266415], [28.08810900000001, -82.457572], [39.89745, -83.03384], [36.985287, -122.030029], [42.473112, -73.806034], [40.437599, -79.86400400000002], [29.660104, -95.584071], [28.544567, -81.416602], [39.642287, -77.693327], [41.13687, -111.91866], [38.725732, -121.381694], [30.417666, -91.142442], [47.632051, -122.184995], [47.58345, -94.106537], [45.545529, -122.532652], [25.807569, -80.313137], [34.15181, -118.12622], [39.91422, -83.01872], [34.395053000000004, -119.297628], [37.066127, -121.220317], [33.959307, -118.232857], [41.448423, -81.689801], [33.901053999999995, -118.361278], [34.054078000000004, -118.237857], [30.42352600000001, -97.669134], [37.495811, -77.023842], [39.92142, -75.0393], [34.065688, -117.500366], [37.094723, -80.484412], [29.475927, -81.183899], [30.454509, -87.254074], [42.15416, -71.06848000000002], [35.3912, -118.978425], [25.747746, -80.334587], [35.717191, -78.83762], [25.900553, -80.20926700000003], [42.913595, -78.76659699999998], [35.264686, -119.002951], [38.010286, -122.11871], [42.88795, -78.76771], [33.841995000000004, -118.293574], [42.880278, -83.611424], [35.234262, -80.893162], [28.4493, -81.477791], [36.11639, -86.77716], [37.784, -122.18467], [25.924072, -80.15433900000002], [33.81939000000001, -117.25051299999998], [36.12055, -86.75001999999998], [32.685467, -79.95948], [37.62784, -120.99714], [33.921612, -118.178122], [28.429529, -81.44360400000002], [34.07221, -117.90351], [42.49641, -83.35094000000002], [36.494903, -119.376719], [38.681702, -85.84984200000002], [33.98965, -118.400784], [37.82973, -122.29408], [25.810883, -80.20588599999998], [36.673426, -79.100025], [40.7808, -73.94399], [37.477584, -122.209937], [38.935557, -94.612119], [45.02821, -93.34756], [30.382369, -97.851247], [43.125404, -77.744718], [25.889538, -80.202745], [32.860099, -117.112996], [40.69478, -73.8121], [40.739997, -73.78961899999999], [25.972513, -80.23813299999998], [33.008068, -80.667811], [44.93858, -117.84158], [37.590633, -121.870039], [45.630587, -108.930269], [40.85823900000001, -73.830421], [38.17507, -121.26221], [30.358298, -97.694876], [33.78493, -117.88379], [33.703404, -84.14144300000002], [39.8635, -105.02511], [26.750833, -80.089934], [29.96167800000001, -90.097214], [38.082363, -121.310423], [34.030617, -117.624085], [35.156702, -80.792857], [38.97501, -77.01169], [28.487003, -81.41590500000002], [35.971009, -78.556708], [34.14855900000001, -118.405211], [36.437906, -120.396326], [34.006956, -117.964227], [46.917361, -122.642108], [40.077519, -77.897285], [30.516626, -91.13984], [25.592178, -80.379172], [35.73102, -78.63108000000003], [39.523708, -76.13985799999998], [36.29653, -86.71499], [26.18066, -80.15328000000002], [34.028981, -118.396385], [44.17044, -93.94873], [29.891727000000003, -95.411999], [37.32941, -121.84177], [30.60961, -84.744592], [41.80813, -88.01935], [41.736933, -88.01226899999996], [38.7974, -77.57746999999998], [34.93872, -81.99848], [34.055586, -118.452152], [26.297936, -80.16915300000002], [37.003959, -121.553603], [39.484373, -77.344144], [37.686924, -121.917322], [36.065192, -119.022926], [38.019101, -121.942176], [34.10637, -117.846366], [39.703922, -86.089739], [34.02483, -84.32225], [37.195975, -80.269221], [41.584546, -72.648229], [29.731455, -95.480386], [36.84489600000001, -76.26912800000002], [33.60018, -112.1004], [47.571948, -122.358909], [38.604842, -121.325163], [42.286054, -123.227816], [25.712548, -80.382427], [33.93235, -78.73545], [29.496349, -98.400737], [37.24188, -121.79925], [40.192097, -75.29481], [36.574017, -76.19919499999997], [45.35651, -92.90996], [25.884161, -80.35014], [45.118723, -93.263537], [28.423556, -82.18928199999998], [29.983632, -81.732573], [27.9815, -82.30317099999998], [25.748801, -80.335788], [39.53261, -86.79777], [34.171243, -118.518511], [44.96542, -93.28805], [35.94503800000001, -78.994241], [36.089743, -95.860303], [44.63187, -122.870566], [33.687422999999995, -117.87191], [34.04149, -117.928658], [38.825382, -120.056497], [39.47592, -104.87241000000002], [41.28779, -74.14066600000002], [25.764586, -80.303949], [37.151785, -77.354014], [42.23818, -71.02391], [26.06664, -80.164951], [41.92687, -72.24678], [38.56341, -121.34143], [33.698709, -111.92486], [25.93889, -80.204922], [34.072402000000004, -117.92238600000002], [29.959032, -90.077638], [44.063213, -123.173624], [40.0715, -75.34525], [42.40461, -71.02821999999998], [34.097472, -118.313968], [29.736283, -95.500822], [40.39013, -76.478844], [33.597765, -112.27198500000002], [32.904787, -96.72522], [40.770896, -112.139092], [39.14615, -76.89967], [28.552679, -81.41609], [47.171679, -110.200518], [42.5496, -71.47652], [34.499719, -82.680885], [41.328493, -73.846707], [43.182438, -123.374158], [32.837604, -97.049296], [40.648642, -74.287425], [36.20749, -86.61178000000002], [30.4023, -84.28062], [40.727345, -111.965338], [33.806816999999995, -118.298511], [28.321123, -81.669414], [40.489025, -111.89368600000002], [42.947412, -83.724457], [41.48653, -112.01574], [35.815467, -78.7053], [40.6238, -74.21623000000002], [29.73582, -95.620353], [41.510798, -74.20730400000002], [48.103648, -122.184716], [28.53559000000001, -81.37935999999998], [37.892935, -121.282181], [29.91252, -81.41063299999998], [45.1373, -93.82806], [27.942963, -82.544907], [39.997555, -76.183284], [33.876453000000005, -118.102364], [40.77335, -73.83064], [37.72991500000001, -122.439569], [36.150974, -86.864165], [34.020978, -117.545696], [28.52018, -81.38466], [38.999078, -94.502049], [42.745324, -84.508455], [34.89806, -119.595519], [38.737539, -120.731474], [41.60844, -72.701752], [40.609506, -111.93573700000002], [38.890729, -77.422742], [43.18539000000001, -76.23872], [39.67538, -104.93097], [42.394846, -122.283148], [38.234599, -121.171463], [39.202991, -94.630722], [45.62359, -121.21334], [43.116701, -77.548045], [30.450739, -91.141228], [34.179007, -118.165733], [37.470513, -77.428411], [25.925464, -80.29233], [25.840841, -80.321248], [37.45556, -79.8416], [44.858818, -93.329605], [33.837964, -84.06863299999998], [29.612128, -95.466646], [39.02247, -94.78532], [33.66876, -112.07275], [34.054256, -118.004167], [34.437652, -118.300019], [30.380331, -91.066956], [29.70625, -95.24219], [39.964942, -75.496853], [33.730521, -78.949342], [39.793885, -105.058275], [35.826629, -78.306818], [44.972777, -122.99003], [38.497689, -121.101861], [40.703938, -111.938939], [33.441251, -112.108113], [36.09315, -80.28430999999998], [39.48835, -119.785448], [39.14027, -108.31611], [36.543684000000006, -121.904802], [33.919328, -81.05967700000002], [34.247349, -118.42494], [32.44444, -80.65310799999997], [40.652364, -74.195265], [45.106442, -93.392727], [25.925966, -80.159375], [34.063697, -117.396418], [34.127088, -118.474797], [40.85002, -73.94399], [40.904024, -105.305878], [34.06885, -117.84162], [40.113367, -75.214512], [39.73507100000001, -86.264658], [46.765118, -112.030044], [30.417363, -91.142662], [33.521524, -86.81423000000002], [27.830459, -82.728387], [34.084828, -119.050801], [36.081566, -80.310259], [27.485708, -82.446197], [40.485274, -107.095223], [37.701505, -121.903234], [40.58292, -73.97381999999998], [39.61447, -76.30475], [35.058006, -119.292029], [33.449337, -112.349662], [25.876731, -80.16884399999998], [25.731968, -80.384466], [39.04810300000001, -77.150727], [30.248823, -85.557247], [42.985856, -83.728927], [36.109074, -86.679873], [25.627116, -80.3418], [45.106597, -93.463478], [33.626407, -112.008542], [38.50487, -122.7674], [40.58871, -111.43696], [37.53008, -121.943296], [33.868914000000004, -81.10122], [32.364894, -86.266827], [34.04096, -118.21862], [28.545788, -81.364361], [25.689146, -80.38287199999998], [40.749245, -74.178071], [40.67487, -74.00064], [28.56559600000001, -81.20740699999998], [37.026468, -76.331559], [34.78972, -82.48643], [32.798527, -96.814658], [30.794554, -86.530622], [35.204033, -80.751898], [37.374926, -93.341127], [33.411067, -111.995487], [35.237716, -119.002457], [35.752725, -78.648949], [38.810874, -77.237484], [35.312555, -120.823779], [40.932608, -73.87905], [38.736523, -77.19246700000002], [40.54418, -111.93503], [44.845694, -93.530338], [39.05915200000001, -77.050308], [44.856224, -117.816654], [40.72675, -111.96663], [29.760061, -90.823643], [47.512961, -92.559546], [27.89454000000001, -82.78704], [36.962863, -121.764949], [42.984319, -85.590738], [37.58581, -122.051591], [39.1213, -94.5881], [34.348874, -80.573284], [42.045053, -87.993053], [39.01517, -77.04253], [43.015899, -123.983123], [33.911989, -118.073768], [47.74082, -122.32893], [30.451847, -91.174387], [36.058827, -90.514747], [25.78534, -80.21489], [45.663546, -110.68698700000002], [43.002407, -83.733376], [44.83087, -92.62989], [37.57371, -122.26222], [34.203109999999995, -118.19209], [37.097916, -120.925092], [25.769711, -80.335312], [34.026808, -118.273011], [25.704216, -80.366336], [44.504402, -92.751313], [39.02932, -84.540195], [41.858169, -73.97063100000003], [30.672693, -91.190437], [32.908186, -96.735431], [32.892994, -96.710688], [26.37208, -80.17079], [32.235886, -110.982225], [33.817473, -118.189147], [41.843651, -77.274774], [41.560768, -72.91609100000002], [34.121357, -117.302924], [30.448497, -91.249654], [33.27783400000001, -86.800028], [33.990804, -117.931909], [38.541206, -121.473732], [34.572661, -82.72090899999998], [38.08786, -122.23181], [30.006226, -90.020395], [25.732346, -80.363795], [37.80728, -121.99105], [34.088183, -118.304675], [40.154094, -76.597492], [35.899603000000006, -78.60783], [29.604474, -82.375649], [38.24863, -85.70467], [39.069336, -121.57892], [40.66382, -73.81009], [25.699025, -80.34114699999998], [42.48484000000001, -83.26925], [32.779065, -117.162793], [37.40407, -122.02207], [45.282978, -123.006547], [36.713728, -76.324326], [28.605548, -81.476263], [37.803601, -79.419554], [41.67123400000001, -86.60278100000002], [45.029858, -92.961362], [35.092788, -118.877724], [25.97249, -80.24694000000002], [31.334842, -88.031526], [39.12814, -121.531193], [34.0842, -118.21946], [30.35649, -97.521238], [37.68916, -122.104322], [35.496321, -82.565166], [45.351562, -118.25079], [39.305852, -76.732431], [37.691371, -122.038589], [44.966443, -93.254985], [32.67862, -96.94606], [37.389564, -120.70496], [28.06587, -82.45461], [33.05039, -96.82994], [25.859022, -80.208134], [33.43601, -111.926887], [25.94944, -80.260756], [33.658553000000005, -80.76393900000002], [36.747739, -119.822994], [32.805471000000004, -117.214922], [47.161635, -122.473952], [37.561806, -77.297636], [25.949326, -80.148812], [25.853426, -80.242049], [33.085659, -87.67968499999998], [38.79819000000001, -77.167968], [35.891532, -78.557676], [33.62699, -112.435092], [44.984287, -122.757797], [42.691283, -73.84120300000002], [42.51852, -83.64536], [28.54314, -81.45829], [38.130782, -81.388878], [42.909948, -83.501439], [34.892676, -82.293832], [37.648351, -77.593971], [37.015589, -76.453717], [32.812104999999995, -96.731102], [25.748089, -80.307929], [34.084385, -80.96191], [25.535215, -80.41212], [34.746407, -118.170619], [38.347479, -122.709518], [43.701542, -122.280009], [27.872807, -82.728889], [35.412246, -119.060351], [30.18181, -97.77623], [28.491567, -81.430616], [44.859368, -93.393664], [42.91145, -74.444727], [32.89553, -80.70908399999998], [32.893307, -117.11554], [33.6055, -84.4857], [40.806625, -123.471037], [38.660909, -121.355163], [25.945626, -80.1769], [37.243288, -93.35115], [34.13641, -117.55146], [45.497417, -122.576373], [28.020662, -82.181457], [40.72009, -111.90364], [33.991015999999995, -117.550296], [34.023540000000004, -118.1728], [33.933609999999994, -84.16329], [26.68208, -81.88351999999998], [30.514492, -91.166479], [27.78873, -82.66034], [45.547009, -122.540904], [34.413215, -118.557521], [45.7668, -95.03548], [38.882356, -77.023961], [44.815701, -93.044729], [45.264264, -123.023379], [33.619126, -84.45884699999998], [28.334676, -81.59251], [33.844972, -118.268763], [28.557988, -81.310879], [40.05283, -76.262384], [25.734314, -80.319079], [44.288538, -121.305673], [34.205226, -118.988022], [45.919622, -111.683825], [44.054564, -91.68963], [35.441127, -119.086623], [41.60085, -72.67173000000003], [34.2353, -118.41266], [34.019069, -118.479835], [34.492574, -118.179922], [40.989441, -73.66476899999998], [29.662193, -95.568776], [35.709964, -78.63195], [40.70329, -111.95314], [41.98493, -88.08027], [33.299409999999995, -117.144783], [38.451461, -77.407269], [38.878344, -76.96665300000002], [44.824141, -68.758825], [32.81163, -96.8531], [34.12104, -117.88325], [33.960014, -118.280984], [34.038070000000005, -118.27273999999998], [45.27527, -122.76907], [25.877268, -80.242762], [38.13652, -85.71333], [42.34836, -83.10468], [35.154841, -84.89181500000002], [36.537749, -119.325692], [34.134424, -117.956997], [38.867172, -77.31766800000003], [39.07892, -94.53871], [34.01520900000001, -117.720521], [26.102126, -80.260869], [34.26034, -118.43873], [34.636790000000005, -77.670311], [39.86972100000001, -76.66351800000002], [28.452939, -81.400159], [34.263736, -118.994642], [33.963311, -118.25011299999998], [28.466366, -81.46472299999998], [36.08966, -86.68845999999998], [25.626145, -80.41645], [39.181822, -76.784238], [40.7239, -74.08986], [25.887561, -80.164221], [37.128394, -76.520235], [47.017711, -109.872578], [34.57663, -118.13353], [43.619396, -116.35438700000002], [37.962452, -122.05388899999998], [39.191823, -86.024927], [41.564808, -73.057851], [37.117243, -121.602833], [38.99074, -76.37165999999998], [34.240254, -117.429524], [33.87073, -117.6836], [27.885436, -82.670005], [35.835714, -78.58222099999998], [40.740598, -73.61055400000002], [28.42898, -81.474963], [41.802987, -72.928561], [45.50857, -122.778058], [38.171229, -75.689274], [37.972358, -122.521691], [39.279942, -120.712725], [28.567963, -81.333773], [36.133515, -95.866088], [33.45792, -112.33462], [34.743306, -92.279846], [33.478027000000004, -117.139969], [42.173305, -121.61862], [42.7232, -84.50554], [42.193298, -87.989452], [39.25615, -76.67687], [33.581814, -117.593275], [35.002697, -85.281818], [37.5479, -77.43151999999998], [35.310518, -80.714014], [44.861909, -93.313482], [45.065692, -123.948408], [42.57506, -70.89005999999998], [33.909147, -118.26851], [34.000991, -117.375885], [32.953441999999995, -96.822165], [33.869196, -117.751906], [33.926075, -118.023697], [37.05358, -122.008481], [39.984387, -74.883638], [34.154197, -118.156975], [35.130569, -81.544473], [41.00029, -73.65337], [27.761689, -82.666679], [47.763692, -122.323719], [39.170926, -121.589851], [27.442889, -82.50536], [34.152634, -118.280343], [26.546659, -81.845802], [38.760812, -76.993604], [34.302978, -86.139718], [42.65978, -73.73871], [33.152091, -117.33654], [37.181944, -93.276567], [33.636166, -112.115807], [38.557648, -121.3909], [38.680018, -121.33982], [27.718277, -82.662862], [45.99518, -122.87702], [46.176121, -123.52708], [39.955826, -75.141409], [40.849331, -73.941016], [47.63349, -122.37621], [33.385523, -117.248072], [26.934997, -80.15794], [30.42528900000001, -91.160783], [33.88476, -84.46937], [37.15876, -121.98257], [43.158363, -77.682276], [38.0528, -122.21618], [34.069772, -118.236161], [38.169711, -79.00658], [33.514197, -117.576838], [36.40487, -87.03086], [27.804173, -82.72868100000002], [35.84607800000001, -78.64420799999998], [36.434036, -119.857262], [37.525345, -120.793989], [33.67283, -111.98384], [35.010827, -81.95629100000002], [32.839459999999995, -97.32084], [44.75131, -122.2826], [40.23866, -111.68973], [40.121288, -75.50693000000003], [36.986835, -121.846408], [25.794615, -80.321001], [25.485184, -80.452906], [30.420693, -91.177716], [25.583511, -80.364819], [41.839209, -124.026299], [35.69466, -78.87453000000002], [45.079983, -123.626714], [39.406017, -78.022938], [30.220562, -97.773221], [38.491855, -120.511813], [37.93125, -77.48001], [34.42672, -117.38048], [40.951044, -111.883106], [45.497897, -94.256077], [34.250322, -118.443703], [34.11257, -117.828827], [30.32408, -81.527598], [41.8975, -88.10197], [34.051859, -117.301692], [32.823393, -96.838889], [25.757691, -80.427138], [44.30309000000001, -120.73809], [38.67434, -77.23883000000002], [42.2734, -85.65486], [35.787762, -78.515586], [40.47740200000001, -74.299757], [44.743239, -93.277307], [38.571853, -121.550093], [45.057, -122.96851], [33.62783, -84.48899], [38.664109, -121.262169], [25.950407, -80.291279], [29.94965, -90.08464], [36.314158, -119.696424], [33.856762, -117.984544], [35.656308, -80.10002], [37.68261, -122.12644], [33.913612, -80.38336], [38.497339, -122.757696], [34.869221, -118.171316], [41.785415, -72.65895], [34.06762, -117.60016], [46.020261, -92.927255], [47.17728, -94.71312], [37.80967, -122.24658], [39.861023, -75.352334], [36.530434, -119.30801], [36.80955, -77.45799], [44.97712, -93.08968], [34.732943, -114.549518], [37.64975, -77.604174], [38.36728, -90.38454], [41.058772, -73.822985], [45.116761, -93.197869], [45.374273, -117.229996], [27.936367, -82.310249], [38.155316, -121.315544], [33.932143, -112.68968], [33.681020000000004, -117.85278], [38.664403, -121.356701], [40.75947, -111.84338], [44.970889, -93.433172], [28.537651, -81.47573299999998], [33.704370000000004, -84.40405], [39.106225, -94.57185], [36.75986, -76.27226], [40.65642, -74.22944], [34.15484, -118.39957], [36.684748, -121.64848], [34.22071, -118.24435], [44.847973, -93.29809], [42.280731, -87.973938], [29.948636, -90.045163], [33.931459999999994, -118.39073], [29.79972, -95.56365], [34.030332, -118.218836], [39.60491, -75.74493000000002], [32.691163, -117.102384], [41.39261, -73.52794], [33.853825, -117.28762], [34.89051, -82.40604], [30.42701, -84.23252], [39.979923, -111.352947], [42.441952, -90.784021], [38.32696, -77.50178000000002], [42.361363, -73.597426], [29.766790000000004, -95.36639], [45.448848, -94.524442], [32.812434, -96.751695], [33.88414, -84.46942], [38.200017, -78.99505], [29.584840000000003, -98.637624], [38.095103, -122.229734], [33.990595, -117.861867], [32.909657, -96.779018], [37.340738, -119.694976], [42.690872, -73.713037], [33.81412, -118.17021], [46.340686, -94.320491], [40.31088, -111.72576], [38.306416, -122.823593], [42.167469, -91.774517], [35.354196, -119.040183], [38.78947, -77.514922], [32.901069, -117.123668], [25.945131, -80.121137], [37.490849, -121.930129], [27.719998, -82.382933], [35.08675, -89.75881], [34.036824, -81.110295], [42.150925, -70.845712], [43.70208, -93.435379], [28.566459, -81.689153], [43.066545, -118.198674], [37.699279, -121.070901], [38.60544, -77.309758], [39.1266, -74.77148000000003], [40.69793, -73.42562], [33.291996000000005, -111.905504], [35.843975, -78.68062900000002], [33.393321, -111.788412], [35.64354, -97.19485], [40.637137, -74.292739], [25.926057, -80.151885], [42.009283, -74.000294], [37.552641, -122.295585], [33.49495, -112.11706], [33.51723, -86.865879], [34.432744, -118.590248], [35.9037, -78.96485], [37.559283, -77.294086], [36.996093, -120.635632], [32.830020000000005, -96.78187], [39.833149, -105.014107], [34.1168, -118.269062], [29.711732, -95.259646], [30.3208, -81.70904], [45.507258, -122.718953], [41.7478, -91.642123], [40.822187, -97.563478], [33.385959, -111.817334], [25.950008, -80.14885], [37.25865, -80.17192], [45.09099000000001, -93.40229], [25.702151, -80.336387], [25.68702900000001, -80.400886], [25.92675, -80.153746], [32.805011, -97.317782], [25.904776, -80.21159899999998], [39.29033, -76.62231], [25.943271, -80.181217], [30.901823, -85.374116], [33.868799, -117.674898], [42.430905, -121.114836], [40.048086, -74.999551], [44.96548, -93.287777], [34.218667, -80.985192], [45.31004, -122.93543], [32.107468, -86.46374300000002], [35.098797, -80.932084], [34.0874, -117.67007], [40.033311, -76.787734], [40.639747, -74.29024799999998], [46.883507, -92.352466], [34.13521, -118.358735], [40.254496, -76.797684], [40.2781, -76.827383], [40.027216, -75.95409699999998], [29.602941, -95.38644], [45.01995, -123.08434], [40.958462, -76.901575], [37.068875, -121.212271], [29.70525, -95.27401], [38.675877, -122.592069], [45.2133, -122.82353], [37.284454, -121.824892], [37.939396, -122.705008], [39.62777, -105.01081], [41.2668, -73.68566], [44.969486, -93.304506], [45.58045300000001, -122.543595], [34.189449, -80.090065], [34.079817, -117.737419], [37.925553, -121.64113], [35.339499, -119.03704], [37.337119, -120.584621], [28.480502, -81.330854], [38.879217, -77.250736], [45.279411, -122.348779], [42.903947, -73.776108], [36.153457, -86.764431], [42.51451, -71.04561], [27.446272, -82.503043], [38.637651, -77.289209], [39.10542, -94.71629], [32.78805, -117.16024], [42.3634, -88.11166], [34.40609, -77.6612], [34.242219, -118.419899], [38.672388, -77.253649], [25.927509, -80.208166], [40.833973, -111.941683], [33.931111, -118.243467], [33.887725, -118.055378], [25.875198, -80.32347800000002], [40.72783, -73.97183000000003], [38.21203, -122.54925], [32.681523, -117.086731], [38.961826, -77.368048], [32.936265, -80.038962], [38.865971, -77.219962], [28.449921000000003, -81.477029], [31.71984, -106.30529], [35.47565, -118.725256], [37.930201, -120.977101], [33.946939, -118.368242], [40.798277, -73.478115], [41.90408, -88.12057], [32.964716, -96.804545], [32.764917, -96.804849], [44.47202, -94.21097], [45.332885, -121.580145], [38.255798, -122.3032], [37.250508, -121.931236], [45.81975900000001, -122.84856299999998], [41.086155, -73.925618], [44.99163, -122.98612], [43.021546, -73.791362], [28.748113, -80.871045], [43.149014, -77.604111], [34.271636, -79.977409], [33.753055, -117.848639], [40.7513, -111.71199], [42.55327, -82.86613], [40.419566, -76.547887], [40.39582, -79.80249], [30.316611, -97.663553], [34.960065, -81.868883], [34.067366, -117.563705], [37.054826, -120.71697], [38.198924, -85.734165], [35.952975, -119.931153], [33.909255, -118.104895], [33.763619, -117.864769], [34.2183, -118.47314], [33.852501000000004, -117.812099], [34.850274, -117.086116], [40.456301, -122.435558], [39.34112, -76.64735], [39.88367, -75.10333299999998], [43.68541, -123.299978], [25.686038, -80.39844699999998], [43.106334, -123.357624], [39.096002, -94.579281], [36.15773, -86.7914], [34.298511, -118.42049], [36.888474, -76.428934], [45.009206, -93.201617], [41.52307, -73.89501], [42.48493, -122.81192], [38.794966, -77.567414], [32.995469, -80.170501], [32.635940000000005, -116.893589], [32.80296, -116.94013], [41.608389, -87.681595], [35.064211, -80.770061], [33.928561, -118.280741], [37.715206, -122.172632], [32.811023, -117.114353], [25.68887, -80.35042800000002], [25.750165, -80.20900999999998], [38.302019, -121.949218], [38.94275800000001, -112.353199], [39.95928, -75.92636999999998], [32.711402, -117.238083], [28.475089, -81.396745], [38.941501, -94.788354], [38.768166, -76.657611], [44.482709, -93.892582], [33.908599, -117.453005], [34.336083, -117.521533], [32.79575, -96.6922], [45.027603000000006, -117.927452], [47.2262, -122.4629], [37.51425, -77.176974], [47.200602, -122.46156299999998], [45.422066, -122.576246], [37.741885, -121.12531], [45.37384, -118.30116], [37.220187, -120.370196], [39.90136500000001, -75.152286], [44.079649, -121.301746], [33.853574, -117.909402], [35.228074, -92.84154], [40.3875, -111.924946], [32.91443, -96.89767], [27.949819, -82.350854], [40.970677, -76.43000500000002], [30.591245, -87.003989], [25.795258, -80.368915], [37.173408, -93.225917], [38.160134, -121.298294], [40.00886, -82.97036999999997], [34.044195, -118.170865], [34.12797, -118.091489], [40.763901, -74.400476], [30.291913, -97.726592], [32.516715999999995, -93.750221], [33.836129, -117.848789], [33.440125, -86.726975], [36.785198, -76.410137], [35.0304, -82.10921], [33.794611, -84.393749], [40.574584, -111.89998500000002], [30.183187, -81.63342800000002], [35.118538, -85.04489699999998], [27.049764, -82.377414], [30.467108000000003, -86.613811], [36.961423, -120.064878], [25.498876, -80.412254], [32.908524, -80.02686], [29.657784000000003, -95.570398], [34.099478000000005, -117.819461], [33.79688, -118.27523], [29.799147, -95.275063], [37.561605, -122.304074], [37.788279, -122.198669], [37.209722, -121.723333], [34.01408, -117.5505], [32.695518, -96.891501], [33.409048, -86.76179], [37.325674, -122.00518], [40.74184, -73.78288], [34.44044, -89.8984], [34.867273, -91.301114], [34.577589, -118.1338], [27.355233, -80.41425], [34.133666, -117.67838799999998], [28.498813, -81.72855799999998], [32.647238, -96.94296], [28.34478, -81.36385], [36.978952, -121.991995], [28.451013, -81.470834], [42.740564, -114.611617], [33.44676, -82.072905], [28.25746, -81.61616], [30.684847, -87.999465], [34.303292, -117.462103], [33.943489, -117.283669], [33.807152, -118.207021], [35.22897000000001, -80.77479], [33.816369, -81.451943], [34.388027, -82.766696], [33.91953, -84.33372], [44.78833, -93.109736], [45.710206, -94.921875], [34.14849, -118.37269], [33.881577, -117.880574], [41.057806, -111.592483], [45.493773, -122.565354], [32.912346, -96.737054], [38.81596, -90.95061], [39.123465, -95.928112], [45.581606, -122.678681], [47.654547, -114.647348], [36.422651, -95.680452], [32.849266, -83.64231], [35.996121, -86.69103], [34.493381, -118.185292], [39.637566, -78.026663], [40.442143, -79.83744200000002], [42.644045, -73.60870899999998], [36.510089, -119.552053], [39.260855, -75.926138], [38.666325, -122.59508999999998], [29.721719, -95.493475], [30.430191, -91.056703], [28.54012, -81.407542], [36.76529, -77.480127], [34.086835, -118.303272], [34.084545, -118.300254], [32.67685, -96.69312], [36.159391, -86.780963], [40.43805, -74.16458], [29.708127, -95.682335], [38.596554, -121.54927], [39.77989, -104.985797], [45.54723, -122.54533], [39.03942, -76.997837], [45.12431, -93.18841], [25.811402, -80.193826], [33.936404, -84.15956], [34.074171, -117.295607], [42.653957, -73.74552299999998], [32.92459, -96.78684], [39.52327, -121.467186], [39.618147, -84.199744], [30.238194, -97.762111], [37.696072, -122.105048], [34.013593, -117.446132], [40.313178, -79.938763], [39.99109, -74.87921999999998], [37.323069, -122.00158], [41.63879, -81.37928000000002], [42.9568, -115.36785], [33.95328, -118.08998], [38.67489000000001, -90.20582], [30.454308, -97.556363], [40.854555, -73.96788199999997], [26.092862, -80.222258], [37.216166, -77.3103], [27.90922, -82.34078000000002], [33.745165, -84.390148], [34.879195, -82.726274], [40.77174, -73.87563], [37.215004, -121.988183], [33.137501, -117.159458], [45.526496, -94.275473], [40.16667, -79.73774], [36.191681, -86.784538], [34.022428000000005, -118.426436], [34.181975, -93.073092], [40.60948, -111.968107], [38.21436, -122.13776], [36.234374, -86.812209], [41.8509, -87.64492], [40.009824, -75.064231], [38.628391, -121.221481], [33.691639, -117.91956], [34.0381, -118.04294], [32.817008, -96.78822], [40.276314, -121.097955], [38.34052, -121.3342], [34.064524, -117.796738], [36.846001, -76.183213], [36.749694, -119.776378], [37.709316, -122.467303], [30.06948, -102.329974], [36.875867, -76.195499], [45.670412, -120.838075], [40.0805, -76.34795], [35.23804000000001, -80.79961999999998], [38.52477, -121.46745], [44.00502, -87.72377], [38.78191, -90.37802], [39.131509, -76.642953], [37.746975, -122.404577], [37.215165, -121.988086], [42.74805, -71.49289], [36.269141, -119.349235], [36.952615, -120.03523], [37.555253, -77.486554], [33.688448, -84.40106], [36.516273, -78.90844799999998], [34.076131, -118.469021], [29.514772, -98.553515], [33.43033, -112.1062], [39.16161, -84.51375], [33.725806, -117.803903], [33.760921, -117.972342], [33.898912, -117.5597], [33.990742, -117.933544], [42.52988, -83.75407], [32.85402, -117.23224], [41.33232, -81.81554], [34.208789, -81.477056], [35.658001, -120.541198], [40.72012700000001, -112.231403], [46.15209, -123.856885], [38.70984, -77.19707], [26.432379, -81.810778], [26.546128000000003, -81.883852], [27.344691, -82.446821], [38.745906, -77.187035], [28.578039, -81.451435], [44.077831, -123.04764], [39.91745, -75.25141500000002], [35.91397, -84.110107], [41.810627, -91.649592], [40.637321, -74.199912], [25.956756, -80.293025], [45.498029, -122.622636], [48.34796, -122.61263999999998], [39.966403, -86.503137], [41.62429, -83.62586], [43.25408, -72.16595], [44.045327, -91.699483], [37.264477, -77.318311], [25.73288, -80.347741], [45.57912, -122.12377], [29.847211, -95.409973], [45.0949, -120.67475], [34.09095, -118.23924], [43.509708, -83.93444000000002], [30.320827, -81.70657800000002], [34.025490000000005, -118.46598], [28.027211, -82.180723], [41.66493, -72.846468], [33.742033, -117.836873], [29.990669, -90.247803], [39.087456, -121.115173], [41.183794, -79.778026], [38.642433, -121.27271100000002], [34.0833, -118.22167], [34.01037, -117.42897], [26.19678, -80.20696], [41.098956, -74.03651500000002], [37.328605, -121.870448], [42.13802, -122.63624], [29.935266, -90.10307], [41.608496, -72.676738], [34.528541, -82.076818], [26.523935, -81.936083], [42.70082100000001, -73.70425999999998], [43.648271, -116.649806], [28.61768, -81.74286], [25.821447, -80.248828], [45.498393, -122.673209], [25.86933, -80.20588199999997], [45.37862, -122.75388], [37.97545, -122.52064], [34.426721, -117.380482], [33.737266, -117.823083], [38.525109, -121.334898], [40.57063, -79.57495], [35.0423, -85.21892199999998], [34.259105, -79.793518], [32.22094, -110.962], [25.761264, -80.374651], [38.09871500000001, -121.567657], [37.619935, -122.145349], [40.75282, -74.11196], [32.21583, -109.883462], [34.025768, -118.275323], [25.733269, -80.331645], [43.0025, -85.67600999999998], [37.898079, -122.090045], [38.692791, -121.088602], [37.758397, -121.452363], [40.021122, -75.624142], [38.270112, -122.271834], [34.066513, -117.509984], [44.569251, -93.844433], [25.8588, -80.20801999999998], [28.47432, -81.632913], [45.54108, -122.47022], [40.75327, -74.21083], [43.733042, -116.707838], [41.2194, -112.0051], [39.3134, -77.44219], [45.082386, -93.287669], [28.576951, -81.47609], [28.437728000000003, -81.404326], [33.894172, -80.403324], [39.030305, -121.456606], [34.210767, -79.362675], [33.539201, -117.144555], [31.318774, -89.39943000000002], [33.921671999999994, -117.288457], [25.942301, -80.30958299999998], [38.694888, -121.355269], [41.678465, -93.410865], [42.52022, -113.62812], [32.749975, -97.795956], [40.73954000000001, -73.72505], [32.84689, -97.11407], [45.62003, -111.550873], [41.536081, -73.086959], [34.81516, -82.44136999999998], [39.42941, -105.46516], [32.904027, -96.713316], [29.014141, -81.988849], [25.775203, -80.408585], [38.61221, -121.401481], [38.808976, -77.185468], [45.822054, -119.88213600000002], [38.94189, -77.02551], [46.179732, -95.708223], [41.261183, -74.158004], [39.278445, -120.10359], [38.778132, -77.326788], [25.627141, -80.383572], [35.37133, -119.04328999999998], [39.025733, -78.282876], [34.707912, -118.796201], [45.304871, -121.669061], [35.131492, -114.105378], [33.76605, -117.954904], [37.84506, -120.54245], [48.188081, -122.196231], [38.00331, -121.835], [44.701101, -122.074898], [42.14501, -86.36825], [29.557553, -95.15808], [36.970227, -76.628919], [38.91215, -76.93404], [41.666745, -71.49138], [39.70254, -86.113597], [35.89131300000001, -78.56076], [45.85212, -123.19847], [32.730713, -96.648317], [30.73243900000001, -86.345254], [32.817363, -96.799418], [37.690867, -122.470568], [40.245442, -75.61304200000002], [40.41153, -80.07598], [41.917637, -74.044321], [37.42012, -121.9147], [29.69657, -95.306106], [40.76876, -73.88205], [40.71166, -74.00395], [25.733112, -80.31059300000003], [37.58169, -77.47385], [42.17149000000001, -87.94958000000004], [25.882653, -80.25125799999998], [39.340313, -76.47221400000002], [47.433925, -123.122283], [36.970649, -76.41779100000002], [33.949717, -118.27957], [38.740916, -76.878693], [35.832971, -78.675552], [37.805084, -122.227169], [40.03848, -75.19154], [37.764645, -121.410691], [42.414382, -83.084374], [41.442527, -82.807061], [39.97551, -75.19189], [37.962735, -120.236241], [45.54236, -122.499431], [35.841482, -78.67874599999998], [29.719609, -95.520099], [29.845367, -95.545008], [44.96401, -93.23701], [35.781291, -78.65705], [29.926828000000004, -90.096404], [34.067245, -117.532761], [39.721659, -75.544979], [40.593477, -74.322529], [34.056221, -118.452663], [41.430056, -72.731286], [39.015337, -77.005115], [40.84609, -111.91459], [25.882637, -80.25867099999998], [33.865521, -98.572461], [34.033617, -118.220003], [34.583755, -117.578222], [38.882365, -77.01730400000002], [42.05694, -88.02209], [34.120219, -117.807201], [32.729284, -117.106957], [39.68142, -104.93705], [33.848027, -117.876085], [34.627996, -86.56687099999998], [39.981142, -76.694907], [45.12911, -93.36251], [34.263729999999995, -118.994259], [32.934447, -80.687187], [38.946139, -94.852793], [25.627141, -80.383572], [28.367582, -81.520924], [33.876943, -118.173193], [32.816708, -96.867655], [32.906263, -96.727721], [37.29605, -122.02742], [39.16391, -76.64295], [40.577445, -75.798744], [34.33876, -118.507252], [25.912969, -80.308514], [25.890177, -80.188547], [34.152142, -118.121473], [36.04735, -86.611482], [45.893662, -119.299309], [37.950933, -121.28611399999998], [42.35433, -83.10596], [38.91056500000001, -77.218071], [25.726054, -80.41547299999998], [38.994605, -77.158113], [43.05572700000001, -76.166812], [45.765133, -122.667041], [35.236023, -80.940585], [38.75139, -90.44763], [34.081857, -117.702658], [30.521276, -91.179499], [44.75842, -93.24795], [29.865899, -95.541114], [35.135818, -80.89056], [32.534594, -86.253303], [35.043334, -85.15815], [32.842225, -96.633922], [33.679717, -78.968513], [38.670891, -120.753304], [34.068206, -118.023751], [44.93935, -93.34865], [37.08186, -77.58242], [42.995174, -83.72659300000002], [29.935990000000004, -95.52825], [28.265598, -82.136308], [38.844233, -77.43871], [32.784267, -96.811821], [28.56641500000001, -81.286017], [34.068870000000004, -118.04218], [44.29036, -93.99927], [38.318673, -104.681876], [38.653215, -121.225643], [37.30232, -121.81622], [33.847757, -117.461478], [34.78605, -78.99499], [25.672423, -80.400222], [45.94011, -123.91901], [29.603143, -81.250129], [30.328256, -87.16065400000002], [34.056921, -117.29826], [34.36882, -117.604769], [33.99414, -117.90955], [28.42136, -81.40471], [30.561593, -81.533534], [30.700618, -86.74589], [34.06434, -118.25069], [40.00974, -75.18727], [37.530595, -77.429956], [29.70625, -95.24219], [38.882246, -77.02579200000002], [33.663269, -117.794947], [33.447505, -84.19975], [33.853651, -117.974098], [39.906004, -75.134232], [25.709551, -80.283107], [34.099312, -117.488708], [40.724096, -74.17532800000002], [26.835168, -80.09879699999998], [25.95766, -80.19773], [39.910158, -75.57015799999998], [45.50798, -122.743011], [34.020212, -117.814998], [34.156793, -118.405459], [39.908685, -74.939829], [37.74199, -121.57396], [32.351531, -110.974851], [35.381559, -119.065407], [34.063222, -117.35298], [32.7526, -117.1239], [34.025725, -117.805977], [34.028042, -118.274508], [40.84913, -73.940062], [35.15687, -80.98388], [34.972840000000005, -78.86541], [34.119661, -117.799083], [34.145790000000005, -117.296], [41.664136, -91.355727], [38.91842000000001, -76.93030999999998], [33.023903999999995, -80.93163299999998], [40.756286, -111.89976], [40.603174, -75.551249], [34.130262, -81.976236], [41.565702, -93.862218], [27.029895, -82.20057], [33.502561, -117.658078], [35.302557, -119.002995], [45.369118, -122.134847], [25.685996, -80.39984399999999], [41.79255, -71.50815], [28.56983, -81.286198], [39.964146, -76.686622], [37.36995, -121.92629], [46.92166, -95.09989], [38.653, -90.44802], [36.065808, -79.316343], [33.799918, -118.11208899999998], [30.387503, -97.649666], [34.05447, -118.20992], [35.370558, -120.640944], [38.117188, -78.34399300000003], [25.68619, -80.430098], [45.6059, -122.55338], [30.354983, -97.715197], [48.93765, -116.323721], [40.63508, -111.89848], [33.539332, -83.725034], [35.24714, -80.8179], [25.867923, -80.24993], [47.653882, -117.375226], [35.22093, -80.83424000000002], [38.644616, -121.286161], [42.64491, -122.80942], [25.880138, -80.355719], [29.78387, -82.682772], [46.825471, -95.823541], [34.02684, -118.03861100000002], [37.320585, -120.504878], [33.827623, -118.287466], [45.5356, -122.68583], [34.819857, -82.26783499999998], [40.66035, -111.50951], [29.60169, -82.37278], [38.829755, -77.32396], [26.203935, -80.20065100000002], [25.91476, -80.16346], [36.35349, -82.393887], [33.824444, -84.490564], [25.889958, -80.193469], [40.104594, -79.04517], [33.8398, -84.31794000000002], [33.846185, -118.286004], [30.438461, -81.72420799999998], [34.033249, -118.144806], [37.688755, -122.135329], [25.69138, -80.38895], [35.576944, -119.6175], [37.30169, -76.6822], [30.755409000000004, -85.832376], [38.836119, -77.43219], [33.991365, -118.0652], [29.804431, -95.218826], [36.80555800000001, -76.363948], [41.007272, -76.84782299999998], [33.672631, -117.831759], [32.933979, -80.05124599999998], [33.749495, -118.010748], [40.138881, -75.502804], [40.434502, -79.997513], [32.926874, -80.043103], [37.25076, -121.90612], [25.876384, -80.168963], [34.209563, -79.241167], [37.63218, -77.4502], [26.327605, -80.117025], [30.156432, -97.676518], [30.415952, -91.071397], [27.93524600000001, -82.567456], [42.963287, -71.414762], [40.573192, -79.749861], [34.886522, -82.067164], [37.603873, -121.871691], [44.254914, -121.077393], [32.710064, -96.928929], [34.590678999999994, -111.877137], [39.95933, -75.17341], [26.03343, -80.16435], [33.80722, -84.37979], [39.316034, -120.444148], [40.62904, -111.90349], [29.726169, -95.460227], [33.4701, -112.03871], [38.93734, -94.85254], [35.143324, -82.838613], [45.33351, -122.76955], [38.781934, -90.376929], [25.924424, -80.31085300000002], [26.106629, -80.16853], [37.640351, -113.093465], [39.320894, -121.50543], [33.77332, -118.03904], [41.9066, -87.92364], [25.845825, -80.38184100000002], [37.663305, -122.10591200000002], [38.33881, -104.6197], [33.762254, -117.92018600000002], [37.907979, -122.514475], [36.156958, -96.016718], [37.31669, -121.94813], [38.245731, -122.625509], [37.66351, -122.10607], [38.323459, -122.25602], [26.014923, -80.167252], [28.472791, -81.375658], [42.903059000000006, -85.677314], [29.77378, -95.36763], [33.956029, -118.109051], [25.490591, -80.44281], [36.87852, -77.82101], [43.226818, -77.547235], [34.156193, -118.26523600000002], [32.847263, -79.98678199999998], [34.899595, -82.337845], [28.578131, -81.416439], [37.9984, -121.80136], [38.02369, -121.97152], [33.884622, -118.352704], [40.938781, -73.855537], [42.275149, -121.89664], [38.479958, -121.371817], [33.801894, -79.142201], [25.628949, -80.340085], [36.981237, -121.900785], [39.09265900000001, -94.487806], [37.849822, -122.22285], [35.319969, -80.86504599999998], [33.897771, -118.054242], [30.712634, -86.585278], [38.901939, -121.072945], [40.880609, -73.869313], [42.912759, -85.642224], [41.3173, -86.890245], [35.17112, -80.85095], [32.29441, -111.012056], [28.59504, -81.38455], [27.880668, -82.816039], [32.457840000000004, -111.21056000000002], [32.752026, -97.319641], [35.44116500000001, -119.038839], [39.903859, -74.96668100000002], [32.284632, -110.978105], [34.260402, -118.192065], [39.396661, -77.32964100000002], [25.948502, -80.148765], [45.123714, -93.188384], [40.56433, -111.89916], [33.533415999999995, -112.042039], [25.89623, -80.292142], [39.69671, -104.99914], [39.06956, -94.56019], [37.678639, -122.128576], [45.999932, -123.917753], [39.153546, -76.649712], [39.186622, -123.029366], [34.978348, -81.077455], [28.408648, -81.456122], [45.12498, -93.301917], [28.787143, -81.34993100000001], [35.12771, -80.91579], [34.051941, -117.161003], [44.99639000000001, -93.08936], [25.815607, -80.386351], [42.987685, -122.396997], [29.76982000000001, -95.342762], [45.232017, -122.754941], [25.715168, -80.431221], [36.29695200000001, -120.271209], [39.93647, -83.00944], [43.138782, -77.558939], [42.956252, -78.912042], [35.219296, -80.79923199999998], [40.28157, -74.08372], [40.101393, -83.13237600000002], [40.610054, -112.033755], [25.952002, -80.15097], [33.919865, -98.498535], [33.911745, -118.046792], [25.898192, -80.213526], [33.869412, -117.750343], [33.549015999999995, -84.28370799999998], [43.97781, -117.25845], [39.997371, -75.83544599999998], [35.700571999999994, -78.597663], [28.761504, -81.361315], [36.96451, -76.284801], [44.985412, -93.241145], [38.79825, -90.5856], [32.861740000000005, -96.65757], [39.979199, -75.203643], [27.041863, -82.300111], [33.626376, -117.709368], [25.809215, -80.325295], [37.514244, -77.17697], [43.181991, -77.60806600000002], [40.208985, -75.44746500000002], [32.750115, -80.82804200000002], [45.557811, -122.67849], [41.22942000000001, -95.95531], [39.82731, -104.98285], [28.487584, -81.42847900000002], [34.135012, -117.624268], [36.13179, -86.726771], [38.76199, -90.42439], [36.830838, -76.303342], [45.73056, -122.87594], [33.26147, -111.89331], [32.925984, -96.811998], [34.045344, -117.6939], [35.84123, -78.67848000000002], [28.567228000000004, -81.21121600000002], [37.325509, -77.225148], [39.94219, -75.14329000000002], [39.123783, -94.565881], [42.738396, -73.671028], [37.80648, -122.23777], [25.95369, -80.199844], [33.966441, -117.688402], [35.129309, -78.747736], [39.639871, -75.795073], [38.11942, -122.28301], [37.791867, -122.469653], [32.27664, -90.178258], [32.80236, -96.68259], [34.032177000000004, -81.19749200000003], [40.73683, -111.90474], [38.933146, -121.084242], [28.661979, -81.40483499999998], [45.590718, -122.68206200000002], [41.09119000000001, -73.92904399999998], [41.773526, -87.946324], [34.734231, -92.398484], [40.260587, -76.097535], [25.895224, -80.16205500000002], [25.639505, -80.41469000000002], [33.964519, -117.549009], [30.459324, -87.093086], [36.077798, -79.211564], [28.553709, -81.27030500000002], [39.05033, -94.47099], [33.97027, -118.37475], [40.66161, -74.18496999999998], [34.076692, -118.219389], [28.55313, -81.359422], [35.125446999999994, -118.398424], [26.521135, -80.072811], [34.083296000000004, -118.228523], [33.774536, -118.072031], [45.411139, -122.744096], [25.8123, -80.24415], [30.448207, -91.189398], [42.69885, -71.1415], [32.833102000000004, -117.233079], [39.205139, -121.205086], [25.765681, -80.263418], [26.333428, -81.806251], [26.25418, -80.13651899999998], [40.79752, -77.85486999999998], [34.081815, -118.704429], [32.728010999999995, -117.112521], [36.064602, -79.458902], [37.545438, -122.289563], [33.88738, -84.46471], [40.279209, -74.701302], [41.96585200000001, -78.63495400000002], [35.38861400000001, -80.849979], [33.723823, -117.976452], [39.22494, -84.38141], [37.53011, -121.94325], [25.890073, -80.190478], [40.63587800000001, -74.209141], [38.93768, -76.915062], [32.934451, -80.049708], [35.080808000000005, -80.850142], [26.553694, -81.754487], [44.85408, -117.89649], [33.873308, -118.19356299999998], [45.1087, -93.30142], [25.942303, -80.310106], [33.130015, -117.105405], [37.973438, -120.99963], [32.727552, -117.104376], [33.70313400000001, -84.179651], [27.480758, -82.563017], [40.861877, -73.912378], [42.24055, -87.977092], [32.286488, -110.980032], [37.50054, -79.7471], [34.364014000000005, -118.504039], [35.6395, -78.72561800000003], [44.931875, -123.101118], [45.1672, -93.526076], [34.890091, -81.970966], [36.924213, -76.41046300000002], [33.772666, -83.31048100000002], [38.902107, -77.021913], [43.59912, -116.49356], [44.37325300000001, -93.294085], [33.764949, -117.865546], [39.200645, -76.69483699999998], [46.39696, -92.77514], [38.289461, -81.568287], [35.76025100000001, -86.86605300000002], [39.329777, -94.58375], [36.35383, -82.20746], [42.382646, -88.111885], [34.013403000000004, -117.343972], [27.7883, -82.72355999999998], [44.938341, -120.928198], [35.075691, -118.974465], [37.75015300000001, -121.138657], [34.15629000000001, -118.483096], [27.30843, -82.468747], [40.84467, -73.923364], [41.57708, -87.5759], [38.866684, -77.05960400000002], [43.056858, -73.356251], [36.721838, -119.785497], [38.7357, -120.666929], [39.12335, -84.53517], [33.803132, -84.25001800000003], [38.628283, -90.220574], [34.044896, -81.100202], [47.23837, -122.432079], [38.98706, -76.62253], [39.79843, -84.2259], [35.065432, -85.080988], [41.180476, -74.182662], [36.12585, -86.76592], [28.597672, -81.207859], [40.279575, -123.853337], [33.88413, -118.028821], [26.61302, -81.6542], [37.957393, -120.311871], [25.90505, -80.22608000000002], [39.333496, -77.396901], [34.024565, -117.767688], [34.028231, -118.229938], [38.90564000000001, -77.009186], [41.098748, -74.03745500000002], [33.568136, -86.783879], [43.13884, -77.67012], [30.314358, -81.77339599999998], [33.63239, -84.40736], [25.84571, -80.24920300000002], [33.787837, -117.830826], [37.9176, -78.84015], [37.694169, -122.143347], [29.942561, -90.073782], [41.56951, -87.36229], [47.62725800000001, -122.32804099999998], [34.034851, -79.937012], [39.26274, -94.44811], [30.44493, -97.77788], [28.3929, -81.37201400000002], [38.756557, -111.438866], [33.776636, -117.900809], [41.505818, -112.015881], [25.559653, -80.364109], [25.624187, -80.414429], [33.73135, -117.81199], [41.22231, -81.64055], [41.346157, -73.651645], [29.797756, -95.273489], [40.898162, -111.395728], [36.845858, -76.17528100000001], [34.031662, -118.426668], [47.593671, -122.320859], [39.407562, -77.43435500000002], [40.82009, -73.89026], [41.79733, -71.40356], [27.807992, -82.75214799999998], [30.01205, -90.068312], [45.129979, -93.389893], [34.678847999999995, -92.35544], [35.21707100000001, -80.841288], [38.035107, -120.649806], [40.644401, -111.930746], [33.93719, -117.12248], [32.456508, -93.767265], [40.387574, -76.64445500000002], [37.550977, -77.428505], [42.876222, -78.866288], [37.52926400000001, -122.001446], [42.22483, -83.67643000000002], [35.902014, -78.652738], [36.137005, -120.271764], [37.488645, -76.969195], [31.77638, -106.2684], [38.769872, -77.492347], [44.262126, -92.975925], [38.074655, -119.177441], [33.72498, -117.80266], [32.73498, -96.82382], [34.0233, -118.17288], [36.922774, -121.364641], [34.673162, -92.372521], [26.547138, -81.800871], [40.807942, -73.92730300000002], [28.15632, -81.80179], [34.102265, -118.198749], [37.99231, -122.30679], [33.061060999999995, -80.796585], [44.89795, -93.06615], [35.753728, -78.652914], [32.75873, -117.12627], [37.625856, -120.98688], [30.383325, -97.924804], [38.579581, -77.324007], [42.37999, -71.14453], [36.753881, -119.827549], [25.853389, -80.243038], [30.537289, -85.855977], [39.34417, -106.0522], [39.343018, -120.337091], [28.566683, -81.20542900000002], [26.253317, -80.136764], [35.202846, -80.72500600000002], [38.28755, -85.83163], [42.3794, -83.19813], [34.641355, -92.770834], [37.554879, -77.48549100000002], [35.259922, -81.048985], [39.13114, -119.77022], [28.436047, -81.402836], [34.15573, -118.43456], [38.401815, -122.726801], [37.353895, -120.628072], [32.683040000000005, -114.01564], [41.85757, -87.64439], [44.2692, -121.212729], [38.52548, -122.789608], [30.424196, -91.151987], [34.136683000000005, -117.558642], [33.524597, -81.92542399999998], [28.546981, -81.28586800000002], [40.103368, -75.44766800000002], [33.992832, -117.356455], [43.074598, -71.47192], [32.744529, -117.109952], [40.823895, -73.822189], [31.412347, -92.720693], [43.006889, -83.753068], [40.79871, -74.18989], [34.068868, -117.35301499999998], [36.835187, -118.228048], [40.67075300000001, -111.460099], [38.91678, -76.93264], [33.69892, -84.27089000000002], [41.405531, -86.736632], [25.715357, -80.38471700000002], [33.336137, -111.826409], [35.058778000000004, -89.835215], [45.193429, -122.58472], [34.017907, -118.052703], [33.744581, -117.833551], [46.445723, -94.302008], [32.836868, -97.016651], [34.120884999999994, -117.894769], [39.76021, -105.00605], [34.000019, -117.982849], [41.59729, -93.59288], [47.415457, -122.220937], [35.47401, -97.73609], [44.965009, -93.287549], [39.87355, -75.04682], [25.82872, -80.20608], [40.738662, -73.81036800000003], [25.669776, -80.416237], [35.66101, -78.793166], [38.117226, -85.753237], [30.120696, -97.635248], [25.900112, -80.18693], [37.973045, -121.236075], [38.880895, -77.235483], [35.05225, -85.14992], [44.06212, -123.00173], [40.10729, -83.0359], [34.154288, -118.131921], [39.78322100000001, -86.162327], [41.476626, -81.67918399999998], [40.07883, -74.74996999999998], [39.26385, -123.22623], [35.079502000000005, -89.92707], [25.686308, -80.41669], [35.674517, -77.85809300000003], [40.130599, -86.518718], [37.015589, -76.453717], [41.481857, -87.322181], [45.86140200000001, -120.771071], [32.734435999999995, -96.822357], [36.138308, -119.053703], [44.563963, -123.234921], [30.464668, -87.241511], [25.714203, -80.42530500000002], [35.96969, -83.92629000000002], [27.168749, -80.392301], [37.700545, -121.23878899999998], [45.60508, -92.9943], [40.34933, -111.76905], [39.28505, -104.89625], [45.56192, -122.5211], [30.391627000000003, -91.179917], [27.92296, -82.333426], [41.139299, -111.854568], [34.136525, -117.492587], [45.191048, -93.545976], [35.3649, -80.71731], [40.177548, -76.184914], [37.966372, -122.305324], [39.241649, -76.576599], [34.116736, -80.925957], [38.95243, -76.86225], [33.883948, -117.525285], [37.39828, -122.0243], [25.943108, -80.358005], [30.34568, -97.572791], [39.310434, -121.025954], [37.042731, -122.051103], [37.354989, -77.411854], [38.802963, -77.10349699999998], [46.004052, -94.342256], [42.224326, -83.65844799999998], [26.376713, -81.771823], [33.908226, -84.429728], [29.396281, -98.497814], [33.99825, -96.576266], [33.940996000000005, -117.243908], [35.653405, -78.864209], [25.686523, -80.38215600000002], [41.683876, -93.065242], [40.11711, -77.03756800000002], [37.548776, -77.432978], [32.831952, -96.700278], [34.071608000000005, -118.099659], [39.101401, -77.539337], [40.137712, -121.583121], [37.244607, -77.393585], [30.240987, -81.514037], [28.410788, -81.471118], [25.881633, -80.24296700000002], [43.147209, -77.591722], [35.5911, -82.56979], [28.431281, -81.470836], [33.989156, -118.281673], [36.976983, -120.079343], [32.734171, -96.683984], [45.79250800000001, -118.12891100000002], [40.643074, -73.978788], [39.10355, -94.57206], [32.93483, -96.75197], [40.84508, -73.91223000000002], [33.925024, -118.326561], [34.351043, -117.439001], [36.050874, -86.698136], [34.129323, -80.885851], [34.135311, -117.35807], [41.14589, -73.25979], [47.45133, -122.82694], [45.511668, -122.667192], [40.737351, -73.240635], [39.119685, -94.6801], [36.153044, -86.75539599999998], [38.61636, -121.53822], [37.68998300000001, -122.136563], [34.156849, -118.418325], [38.160133, -121.686401], [27.88062, -82.65637], [37.423891, -77.629671], [36.52849000000001, -120.48466], [38.474197, -121.396657], [46.00175, -92.93671], [47.239343, -122.407174], [25.604412, -80.351578], [35.231881, -80.818977], [34.064471999999995, -117.302023], [44.41662, -119.01541], [34.14842, -118.469315], [37.866181, -121.669014], [36.0612, -78.790199], [39.09269000000001, -94.59094], [32.68269, -97.24062], [38.547348, -121.353979], [29.956546000000003, -90.071878], [33.994868, -118.404566], [27.460255, -82.587541], [39.044562, -94.677268], [40.855207, -111.901395], [33.006873, -80.187538], [33.859916, -118.29459], [34.025490000000005, -118.46598], [41.105054, -73.427196], [40.356654, -111.779651], [39.422088, -111.921468], [44.948769, -92.935034], [26.150707, -80.153351], [37.641875, -122.091621], [33.876503, -118.08835], [40.73993400000001, -74.080586], [44.862332, -93.220629], [33.992417, -117.931792], [39.960979, -90.240545], [34.124744, -81.234848], [32.405408, -90.146158], [35.30042, -80.80164], [33.422077, -111.896179], [35.27093, -79.60127], [37.83675, -122.29598], [25.897497, -80.233448], [34.143501, -117.256404], [39.95651, -75.18047], [39.529599, -77.603176], [34.053014000000005, -118.228951], [25.840977, -80.32198000000002], [33.835655, -116.804853], [36.17285, -86.76534000000002], [47.003535, -114.489372], [34.0368, -118.02375], [40.840711, -74.082669], [40.016788, -75.664075], [35.1204, -90.06925], [32.82574, -96.8831], [33.740512, -117.999976], [27.846597, -82.346917], [40.069123, -76.329048], [25.900453, -80.29215400000002], [35.274512, -80.854566], [39.038704, -84.59111], [27.71941, -82.663816], [25.687666, -80.347633], [33.916173, -118.223542], [40.01822, -74.8082], [39.795064, -104.987964], [42.46631, -88.06241999999996], [40.72172, -73.42175999999998], [34.885841, -82.068136], [42.253192, -121.796675], [41.70068, -71.47456], [25.895833, -80.32458100000002], [25.853163, -80.322365], [34.143692, -81.233203], [30.534836, -87.086318], [34.156624, -82.177065], [37.143387, -93.296093], [38.06849, -122.22627], [35.412322, -119.048586], [33.85856, -117.87647], [41.556057, -72.02439100000002], [34.5258, -82.84680999999998], [36.402054, -119.807127], [40.952635, -73.74498299999998], [35.371804, -118.97032], [37.316757, -121.922081], [30.2896, -97.865075], [32.206963, -110.933581], [38.80095, -76.060015], [34.06714, -117.42979], [34.152706, -118.099733], [35.050638, -85.04898], [41.56956, -87.36349399999996], [40.398844, -75.496358], [39.785467, -76.117719], [46.823095, -95.855857], [27.938503000000004, -82.744016], [47.64476, -122.28496], [33.292485, -111.972141], [42.964933, -71.41184200000002], [47.6322, -122.32477], [25.74753, -80.337365], [33.974758, -118.252058], [33.841592, -118.286313], [38.752366, -122.615229], [33.76487, -117.9551], [30.390871, -87.060278], [44.9523, -93.08455], [40.201799, -75.512777], [32.842371, -96.827416], [27.95066, -82.5183], [44.05116, -122.86108], [41.67206, -83.87889], [43.231061, -77.68517299999998], [36.662155, -120.024748], [37.552525, -77.47882800000002], [30.280494, -97.750329], [45.149161, -122.65071], [32.907540000000004, -96.729617], [36.069418, -119.039676], [36.356232, -119.414612], [34.37331, -84.90778], [33.872855, -118.269549], [39.92943, -75.11499], [40.213119, -77.154078], [38.97574, -77.68181899999998], [41.279417, -122.29204], [41.65376, -76.85271], [39.264261, -76.563455], [38.021333, -122.263646], [40.66627, -73.79025], [41.528714, -71.96871], [32.758414, -96.56185], [28.48275, -81.44471999999998], [45.39141, -122.61295], [45.69882, -123.21701000000002], [34.0734, -117.29544], [38.022212, -78.574749], [29.676152, -95.267088], [33.906923, -84.43155], [39.166871, -94.559036], [34.037758000000004, -118.281458], [33.931360999999995, -118.382702], [25.929745, -80.125514], [33.98431, -118.256441], [44.0433, -69.89741], [30.077862, -81.451829], [41.76307, -72.53583], [47.004193, -108.790712], [35.08155900000001, -81.708496], [32.9593, -96.82114], [39.236068, -120.022615], [37.535368, -83.347391], [43.511709, -123.31594], [35.06705, -85.316299], [46.747244, -92.148288], [34.10734, -118.18666], [39.724525, -105.014694], [37.540175, -79.39165], [33.89498, -117.499305], [33.220125, -97.170599], [40.72595, -111.98165], [35.872862, -78.54310699999998], [40.73184000000001, -73.87198000000002], [38.760754, -76.993801], [34.639861, -120.493128], [25.954565, -80.240534], [33.846798, -118.233848], [39.93171, -75.199689], [26.566884, -81.43614699999998], [37.69045, -122.08891], [44.05329, -93.47272], [29.731831, -95.389339], [26.93621, -80.15433], [37.48768, -122.20653], [39.00338, -94.8533], [28.83257, -81.32178], [26.065624, -81.703036], [35.183884, -80.756727], [34.018083000000004, -117.816138], [32.641381, -117.100818], [37.752049, -121.467835], [39.50825800000001, -107.880853], [47.46304, -122.28719], [25.896783, -80.256345], [44.739935, -93.282899], [37.159901, -80.322384], [34.226214, -118.37549], [32.924665999999995, -80.085722], [43.96288, -94.75401], [25.88232, -80.16609100000002], [37.50547, -77.0904], [42.22074600000001, -122.721646], [40.01855, -75.1671], [41.408833, -74.07764499999998], [36.753376, -119.688051], [37.724243, -77.449877], [37.381595, -120.70515], [45.022948, -117.925003], [45.615847, -94.168303], [34.059467, -118.001634], [42.780659, -73.648742], [36.04638, -95.88608], [45.273494, -93.006408], [40.951977, -76.312676], [35.027151, -85.31071999999998], [37.198748, -121.992933], [41.869887, -87.88291], [33.834908, -117.835424], [30.046943, -89.9624], [41.026948, -76.425701], [28.28063, -82.676], [42.93069000000001, -85.60361400000002], [40.058738, -106.175399], [37.82922, -122.292979], [33.908054, -81.148812], [40.853658, -73.965014], [34.144631, -117.252406], [39.234143, -120.755377], [38.48158, -121.371953], [33.017001, -117.213164], [32.717148, -117.102771], [47.635318, -122.187138], [38.864992, -77.220556], [40.06667, -74.96609000000002], [41.563085, -74.08244599999998], [43.637943, -83.925414], [34.06752, -117.4888], [34.91743, -84.01769], [40.730941, -74.048472], [36.35127, -86.946729], [41.14944000000001, -77.3576], [33.129261, -117.097231], [33.494240000000005, -112.2551], [38.893592, -76.828762], [40.222911, -75.268517], [40.041622, -76.36381899999998], [35.12638, -89.86809000000002], [39.47685, -77.98357], [25.928134, -80.200787], [41.58925, -73.47604], [34.118395, -93.092308], [37.827051, -122.285626], [25.712548, -80.382427], [39.10249, -94.57261], [33.55927, -117.67314], [43.02534, -71.1898], [28.472592, -81.395184], [32.86116, -97.31471], [33.38626, -111.81673], [34.266033, -118.480217], [28.147382, -81.447151], [28.00331, -80.63408000000003], [25.885453, -80.243229], [40.105022, -74.900032], [29.893505, -95.316748], [38.166401, -77.63781], [29.701897, -95.571108], [34.714827, -118.169952], [44.966032, -93.259895], [35.84119099999999, -78.67847900000002], [37.186821, -93.606809], [35.147956, -80.828976], [34.034033, -118.22113], [30.04617, -95.43037], [33.883189, -117.880335], [35.146968, -80.831509], [35.979287, -86.574986], [38.81913, -76.91499], [40.579867, -82.899975], [28.049123, -82.709325], [28.34733300000001, -81.508995], [40.253359, -76.809936]],\n",
       "                {&quot;blur&quot;: 15, &quot;maxZoom&quot;: 18, &quot;minOpacity&quot;: 0.5, &quot;radius&quot;: 25}\n",
       "            ).addTo(map_b20fdf5d4290f25ffb8826ad0a023cc5);\n",
       "        \n",
       "&lt;/script&gt;\" style=\"position:absolute;width:100%;height:100%;left:0;top:0;border:none !important;\" allowfullscreen webkitallowfullscreen mozallowfullscreen></iframe></div></div>"
      ],
      "text/plain": [
       "<folium.folium.Map at 0x1d4733ef370>"
      ]
     },
     "execution_count": 465,
     "metadata": {},
     "output_type": "execute_result"
    }
   ],
   "source": [
    "HeatMap(list(zip(df_sample2.Start_Lat,df_sample2.Start_Lng)), ).add_to(map)\n",
    "map"
   ]
  },
  {
   "cell_type": "code",
   "execution_count": 273,
   "id": "55117fcb",
   "metadata": {},
   "outputs": [
    {
     "data": {
      "text/plain": [
       "[(40.10891, -83.09286),\n",
       " (39.86542, -84.0628),\n",
       " (39.10266, -84.52468),\n",
       " (41.06213, -81.53784),\n",
       " (39.172393, -84.49279200000002),\n",
       " (39.06324, -84.03243),\n",
       " (39.77565, -84.18603),\n",
       " (41.37531, -81.82016999999998),\n",
       " (40.702247, -84.075887),\n",
       " (40.10931, -82.96849),\n",
       " (39.19288, -84.47723),\n",
       " (39.13877, -84.53394),\n",
       " (41.4739, -81.704233),\n",
       " (39.582242, -83.677814),\n",
       " (40.151785, -81.312635),\n",
       " (40.151747, -81.312682),\n",
       " (39.97241, -82.84695),\n",
       " (39.9838, -82.85656999999998),\n",
       " (40.02664, -82.9944),\n",
       " (41.679361, -83.573037)]"
      ]
     },
     "execution_count": 273,
     "metadata": {},
     "output_type": "execute_result"
    }
   ],
   "source": [
    "list(zip(df2.Start_Lat.iloc[:20], df2.Start_Lng.iloc[:20]))"
   ]
  },
  {
   "cell_type": "code",
   "execution_count": null,
   "id": "1247b6b2",
   "metadata": {},
   "outputs": [],
   "source": []
  },
  {
   "cell_type": "markdown",
   "id": "96a1cc0d",
   "metadata": {},
   "source": [
    "<h1>Ask & Answer Questions</h1>"
   ]
  },
  {
   "cell_type": "markdown",
   "id": "4ef6a9f9",
   "metadata": {},
   "source": [
    "### Are there more accidents in warmer or in cold areas?"
   ]
  },
  {
   "cell_type": "markdown",
   "id": "d6a800e2",
   "metadata": {},
   "source": [
    "### Which State has highest no of accidents?"
   ]
  },
  {
   "cell_type": "code",
   "execution_count": 433,
   "id": "34bee078",
   "metadata": {},
   "outputs": [
    {
     "data": {
      "text/plain": [
       "Miami                           106966\n",
       "Los Angeles                      68956\n",
       "Orlando                          54691\n",
       "Dallas                           41979\n",
       "Houston                          39448\n",
       "                                 ...  \n",
       "Ridgedale                            1\n",
       "Sekiu                                1\n",
       "Wooldridge                           1\n",
       "Bullock                              1\n",
       "American Fork-Pleasant Grove         1\n",
       "Name: City, Length: 11681, dtype: int64"
      ]
     },
     "execution_count": 433,
     "metadata": {},
     "output_type": "execute_result"
    }
   ],
   "source": [
    "df2.City.value_counts()"
   ]
  },
  {
   "cell_type": "code",
   "execution_count": 434,
   "id": "c7951a6e",
   "metadata": {},
   "outputs": [],
   "source": [
    "# Miami has recorded most no of accidents"
   ]
  },
  {
   "cell_type": "markdown",
   "id": "21561650",
   "metadata": {},
   "source": [
    "### Why accident count in NYC is lower as it is the most populated city of USA?"
   ]
  },
  {
   "cell_type": "code",
   "execution_count": null,
   "id": "3f77bfab",
   "metadata": {},
   "outputs": [],
   "source": []
  },
  {
   "cell_type": "markdown",
   "id": "b0a6a966",
   "metadata": {},
   "source": [
    "### What time of day accidents are more frequent in?"
   ]
  },
  {
   "cell_type": "code",
   "execution_count": 437,
   "id": "87e158e4",
   "metadata": {},
   "outputs": [
    {
     "data": {
      "text/plain": [
       "17    220358\n",
       "16    218385\n",
       "15    214264\n",
       "14    191480\n",
       "18    168982\n",
       "13    166473\n",
       "12    143715\n",
       "7     135191\n",
       "8     130879\n",
       "19    116911\n",
       "11    113271\n",
       "6     111160\n",
       "9     108779\n",
       "10    103926\n",
       "20     94682\n",
       "21     87078\n",
       "22     81188\n",
       "5      80303\n",
       "23     74243\n",
       "0      68800\n",
       "1      59370\n",
       "2      55443\n",
       "4      51805\n",
       "3      48656\n",
       "Name: Start_Time, dtype: int64"
      ]
     },
     "execution_count": 437,
     "metadata": {},
     "output_type": "execute_result"
    }
   ],
   "source": [
    "accident_hours = df.Start_Time.dt.hour.value_counts()\n",
    "accident_hours"
   ]
  },
  {
   "cell_type": "code",
   "execution_count": 439,
   "id": "a898da4b",
   "metadata": {},
   "outputs": [
    {
     "data": {
      "text/plain": [
       "<AxesSubplot:xlabel='Start_Time', ylabel='Count'>"
      ]
     },
     "execution_count": 439,
     "metadata": {},
     "output_type": "execute_result"
    },
    {
     "data": {
      "image/png": "[encoded data removed]",
      "text/plain": [
       "<Figure size 432x288 with 1 Axes>"
      ]
     },
     "metadata": {
      "needs_background": "light"
     },
     "output_type": "display_data"
    }
   ],
   "source": [
    "# 17 i.e. 5 PM is the time when most of the accidents heppened, also verified by this histogram\n",
    "\n",
    "sns.histplot(df.Start_Time.dt.hour, bins=24)"
   ]
  },
  {
   "cell_type": "markdown",
   "id": "ddd1eab2",
   "metadata": {},
   "source": [
    "### which days of week has most accidents?"
   ]
  },
  {
   "cell_type": "code",
   "execution_count": 440,
   "id": "cd789842",
   "metadata": {},
   "outputs": [
    {
     "data": {
      "text/plain": [
       "4    492074\n",
       "3    463471\n",
       "2    455037\n",
       "1    443967\n",
       "0    419820\n",
       "5    311691\n",
       "6    259274\n",
       "Name: Start_Time, dtype: int64"
      ]
     },
     "execution_count": 440,
     "metadata": {},
     "output_type": "execute_result"
    }
   ],
   "source": [
    "accident_by_day = df2['Start_Time'].dt.dayofweek.value_counts()\n",
    "accident_by_day"
   ]
  },
  {
   "cell_type": "markdown",
   "id": "b8c0aa3b",
   "metadata": {},
   "source": [
    "##### 4 i.e. Friday is the day when most number of accidents happened \n",
    "##### 6 i.e. sunday is the day least no of acidents happened (may be because of the holiday)"
   ]
  },
  {
   "cell_type": "code",
   "execution_count": null,
   "id": "54fd1a2a",
   "metadata": {},
   "outputs": [],
   "source": []
  }
 ],
 "metadata": {
  "kernelspec": {
   "display_name": "Python 3 (ipykernel)",
   "language": "python",
   "name": "python3"
  },
  "language_info": {
   "codemirror_mode": {
    "name": "ipython",
    "version": 3
   },
   "file_extension": ".py",
   "mimetype": "text/x-python",
   "name": "python",
   "nbconvert_exporter": "python",
   "pygments_lexer": "ipython3",
   "version": "3.9.6"
  }
 },
 "nbformat": 4,
 "nbformat_minor": 5
}
